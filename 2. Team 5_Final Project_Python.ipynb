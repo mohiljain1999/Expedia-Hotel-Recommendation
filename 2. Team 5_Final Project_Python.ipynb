{
 "cells": [
  {
   "cell_type": "markdown",
   "id": "05b8b86b",
   "metadata": {},
   "source": [
    "1. Basic steps\n",
    "1.1 Loading Libraries"
   ]
  },
  {
   "cell_type": "code",
   "execution_count": 1,
   "id": "cac27cae",
   "metadata": {},
   "outputs": [],
   "source": [
    "import numpy as np \n",
    "import pandas as pd \n",
    "import os\n",
    "import pandas as pd\n",
    "import boto3\n",
    "from io import StringIO\n",
    "import io\n",
    "import string\n",
    "import random\n",
    "import json\n",
    "import pickle\n",
    "import numpy as np \n",
    "import pandas as pd\n",
    "import matplotlib.pyplot as plt\n",
    "%matplotlib inline\n",
    "import seaborn as sns\n",
    "from scipy import stats\n",
    "from scipy.stats import norm\n",
    "from sklearn.model_selection import train_test_split\n",
    "from sklearn.linear_model import LinearRegression\n",
    "from sklearn.linear_model import LogisticRegression\n",
    "from sklearn.model_selection import cross_val_score\n",
    "from sklearn.tree import DecisionTreeClassifier\n",
    "from sklearn.ensemble import RandomForestClassifier\n",
    "from sklearn.neighbors import KNeighborsClassifier\n",
    "from sklearn.metrics import confusion_matrix\n",
    "from sklearn.metrics import accuracy_score\n",
    "from sklearn import neighbors\n",
    "\n",
    "\n",
    "\n",
    "# suppressing warnings\n",
    "import warnings\n",
    "warnings.filterwarnings('ignore')\n"
   ]
  },
  {
   "cell_type": "markdown",
   "id": "557f70ee",
   "metadata": {},
   "source": [
    "1.2 Loading the entire dataset to check the information"
   ]
  },
  {
   "cell_type": "code",
   "execution_count": 2,
   "id": "a02d005b",
   "metadata": {},
   "outputs": [],
   "source": [
    "full_train = pd.read_csv(\"/Users/yaminirege/Desktop/MSBA Fall 2022/2.Q2 - Winter/2. MIS 636-901- Python/Project - Final/Raw files/expedia-hotel-recommendations/train.csv\")\n",
    "full_test = pd.read_csv(\"/Users/yaminirege/Desktop/MSBA Fall 2022/2.Q2 - Winter/2. MIS 636-901- Python/Project - Final/Raw files/expedia-hotel-recommendations/test.csv\")"
   ]
  },
  {
   "cell_type": "code",
   "execution_count": 3,
   "id": "ae2bbde7",
   "metadata": {},
   "outputs": [
    {
     "data": {
      "text/plain": [
       "(37670293, 24)"
      ]
     },
     "execution_count": 3,
     "metadata": {},
     "output_type": "execute_result"
    }
   ],
   "source": [
    "full_train.shape"
   ]
  },
  {
   "cell_type": "code",
   "execution_count": 4,
   "id": "092ec420",
   "metadata": {},
   "outputs": [
    {
     "data": {
      "text/plain": [
       "(2528243, 22)"
      ]
     },
     "execution_count": 4,
     "metadata": {},
     "output_type": "execute_result"
    }
   ],
   "source": [
    "full_test.shape"
   ]
  },
  {
   "cell_type": "code",
   "execution_count": 5,
   "id": "25997602",
   "metadata": {},
   "outputs": [
    {
     "data": {
      "text/plain": [
       "Index(['date_time', 'site_name', 'posa_continent', 'user_location_country',\n",
       "       'user_location_region', 'user_location_city',\n",
       "       'orig_destination_distance', 'user_id', 'is_mobile', 'is_package',\n",
       "       'channel', 'srch_ci', 'srch_co', 'srch_adults_cnt', 'srch_children_cnt',\n",
       "       'srch_rm_cnt', 'srch_destination_id', 'srch_destination_type_id',\n",
       "       'is_booking', 'cnt', 'hotel_continent', 'hotel_country', 'hotel_market',\n",
       "       'hotel_cluster'],\n",
       "      dtype='object')"
      ]
     },
     "execution_count": 5,
     "metadata": {},
     "output_type": "execute_result"
    }
   ],
   "source": [
    "full_train.columns"
   ]
  },
  {
   "cell_type": "code",
   "execution_count": 6,
   "id": "329a5d33",
   "metadata": {},
   "outputs": [
    {
     "data": {
      "text/plain": [
       "Index(['id', 'date_time', 'site_name', 'posa_continent',\n",
       "       'user_location_country', 'user_location_region', 'user_location_city',\n",
       "       'orig_destination_distance', 'user_id', 'is_mobile', 'is_package',\n",
       "       'channel', 'srch_ci', 'srch_co', 'srch_adults_cnt', 'srch_children_cnt',\n",
       "       'srch_rm_cnt', 'srch_destination_id', 'srch_destination_type_id',\n",
       "       'hotel_continent', 'hotel_country', 'hotel_market'],\n",
       "      dtype='object')"
      ]
     },
     "execution_count": 6,
     "metadata": {},
     "output_type": "execute_result"
    }
   ],
   "source": [
    "full_test.columns"
   ]
  },
  {
   "cell_type": "markdown",
   "id": "a8ed02a6",
   "metadata": {},
   "source": [
    "Using the rows only which has \"is_booking\" = 1"
   ]
  },
  {
   "cell_type": "code",
   "execution_count": 7,
   "id": "0ea55233",
   "metadata": {},
   "outputs": [
    {
     "data": {
      "text/plain": [
       "3000693"
      ]
     },
     "execution_count": 7,
     "metadata": {},
     "output_type": "execute_result"
    }
   ],
   "source": [
    "# Count the number of rows where is_booking is equal to 1\n",
    "num_bookings = (full_train['is_booking'] == 1).sum()\n",
    "num_bookings"
   ]
  },
  {
   "cell_type": "markdown",
   "id": "5d6ab20b",
   "metadata": {},
   "source": [
    "Identifying top clusters in the entire dataset"
   ]
  },
  {
   "cell_type": "code",
   "execution_count": 8,
   "id": "21391310",
   "metadata": {},
   "outputs": [
    {
     "data": {
      "text/plain": [
       "hotel_cluster\n",
       "91    120972\n",
       "48     85377\n",
       "42     73123\n",
       "59     66609\n",
       "28     63978\n",
       "16     56676\n",
       "18     55659\n",
       "95     55125\n",
       "50     54409\n",
       "82     54320\n",
       "21     51470\n",
       "41     49775\n",
       "98     48961\n",
       "64     48017\n",
       "46     46797\n",
       "25     46372\n",
       "9      45309\n",
       "2      45055\n",
       "6      44449\n",
       "47     44084\n",
       "Name: is_booking, dtype: int64"
      ]
     },
     "execution_count": 8,
     "metadata": {},
     "output_type": "execute_result"
    }
   ],
   "source": [
    "full_train.groupby('hotel_cluster')['is_booking'].sum().sort_values(ascending = False).head(20)"
   ]
  },
  {
   "cell_type": "markdown",
   "id": "3f12adeb",
   "metadata": {},
   "source": [
    "Selecting only Top 5 clusters and is booking = 1 for further analysis"
   ]
  },
  {
   "cell_type": "code",
   "execution_count": 9,
   "id": "d4298b41",
   "metadata": {},
   "outputs": [],
   "source": [
    "# Select rows with hotel clusters 91, 48, 42, 59, and 28 from the randomly selected rows\n",
    "random_sample0 = full_train[(full_train['is_booking'] == 1) & (full_train['hotel_cluster'].isin([91, 48, 42, 59, 28]))]\n"
   ]
  },
  {
   "cell_type": "code",
   "execution_count": 10,
   "id": "62e61bd8",
   "metadata": {},
   "outputs": [
    {
     "data": {
      "text/plain": [
       "(410059, 24)"
      ]
     },
     "execution_count": 10,
     "metadata": {},
     "output_type": "execute_result"
    }
   ],
   "source": [
    "random_sample0.shape"
   ]
  },
  {
   "cell_type": "code",
   "execution_count": 11,
   "id": "fa12f7c4",
   "metadata": {},
   "outputs": [
    {
     "data": {
      "text/plain": [
       "hotel_cluster\n",
       "91    120972\n",
       "48     85377\n",
       "42     73123\n",
       "59     66609\n",
       "28     63978\n",
       "Name: is_booking, dtype: int64"
      ]
     },
     "execution_count": 11,
     "metadata": {},
     "output_type": "execute_result"
    }
   ],
   "source": [
    "random_sample0[random_sample0['is_booking'] == 1].groupby('hotel_cluster')['is_booking'].sum().sort_values(ascending=False)\n"
   ]
  },
  {
   "cell_type": "markdown",
   "id": "bb4d7c3b",
   "metadata": {},
   "source": [
    "Selecting only 1 lakh rows randomly from the original dataset for the project"
   ]
  },
  {
   "cell_type": "code",
   "execution_count": 12,
   "id": "e11a92de",
   "metadata": {},
   "outputs": [],
   "source": [
    "random_sample = random_sample0.sample(n=100000, random_state=42)"
   ]
  },
  {
   "cell_type": "code",
   "execution_count": 13,
   "id": "a48e85c4",
   "metadata": {},
   "outputs": [],
   "source": [
    "random_sample.to_csv('Final Expedia hotel recommendation dataset 1L.csv', index=False)"
   ]
  },
  {
   "cell_type": "code",
   "execution_count": 14,
   "id": "8a604c08",
   "metadata": {},
   "outputs": [
    {
     "data": {
      "text/html": [
       "<div>\n",
       "<style scoped>\n",
       "    .dataframe tbody tr th:only-of-type {\n",
       "        vertical-align: middle;\n",
       "    }\n",
       "\n",
       "    .dataframe tbody tr th {\n",
       "        vertical-align: top;\n",
       "    }\n",
       "\n",
       "    .dataframe thead th {\n",
       "        text-align: right;\n",
       "    }\n",
       "</style>\n",
       "<table border=\"1\" class=\"dataframe\">\n",
       "  <thead>\n",
       "    <tr style=\"text-align: right;\">\n",
       "      <th></th>\n",
       "      <th>date_time</th>\n",
       "      <th>site_name</th>\n",
       "      <th>posa_continent</th>\n",
       "      <th>user_location_country</th>\n",
       "      <th>user_location_region</th>\n",
       "      <th>user_location_city</th>\n",
       "      <th>orig_destination_distance</th>\n",
       "      <th>user_id</th>\n",
       "      <th>is_mobile</th>\n",
       "      <th>is_package</th>\n",
       "      <th>...</th>\n",
       "      <th>srch_children_cnt</th>\n",
       "      <th>srch_rm_cnt</th>\n",
       "      <th>srch_destination_id</th>\n",
       "      <th>srch_destination_type_id</th>\n",
       "      <th>is_booking</th>\n",
       "      <th>cnt</th>\n",
       "      <th>hotel_continent</th>\n",
       "      <th>hotel_country</th>\n",
       "      <th>hotel_market</th>\n",
       "      <th>hotel_cluster</th>\n",
       "    </tr>\n",
       "  </thead>\n",
       "  <tbody>\n",
       "    <tr>\n",
       "      <th>16993221</th>\n",
       "      <td>2014-01-26 02:40:37</td>\n",
       "      <td>2</td>\n",
       "      <td>3</td>\n",
       "      <td>63</td>\n",
       "      <td>451</td>\n",
       "      <td>29000</td>\n",
       "      <td>118.5376</td>\n",
       "      <td>656753</td>\n",
       "      <td>0</td>\n",
       "      <td>0</td>\n",
       "      <td>...</td>\n",
       "      <td>0</td>\n",
       "      <td>1</td>\n",
       "      <td>21873</td>\n",
       "      <td>1</td>\n",
       "      <td>1</td>\n",
       "      <td>1</td>\n",
       "      <td>6</td>\n",
       "      <td>46</td>\n",
       "      <td>1089</td>\n",
       "      <td>91</td>\n",
       "    </tr>\n",
       "    <tr>\n",
       "      <th>23837032</th>\n",
       "      <td>2014-10-28 02:11:27</td>\n",
       "      <td>18</td>\n",
       "      <td>2</td>\n",
       "      <td>119</td>\n",
       "      <td>0</td>\n",
       "      <td>27731</td>\n",
       "      <td>NaN</td>\n",
       "      <td>186216</td>\n",
       "      <td>0</td>\n",
       "      <td>0</td>\n",
       "      <td>...</td>\n",
       "      <td>0</td>\n",
       "      <td>1</td>\n",
       "      <td>22235</td>\n",
       "      <td>6</td>\n",
       "      <td>1</td>\n",
       "      <td>1</td>\n",
       "      <td>6</td>\n",
       "      <td>77</td>\n",
       "      <td>2</td>\n",
       "      <td>59</td>\n",
       "    </tr>\n",
       "    <tr>\n",
       "      <th>1644236</th>\n",
       "      <td>2014-07-23 20:34:39</td>\n",
       "      <td>2</td>\n",
       "      <td>3</td>\n",
       "      <td>66</td>\n",
       "      <td>184</td>\n",
       "      <td>11740</td>\n",
       "      <td>37.4398</td>\n",
       "      <td>399072</td>\n",
       "      <td>0</td>\n",
       "      <td>0</td>\n",
       "      <td>...</td>\n",
       "      <td>1</td>\n",
       "      <td>1</td>\n",
       "      <td>8236</td>\n",
       "      <td>1</td>\n",
       "      <td>1</td>\n",
       "      <td>1</td>\n",
       "      <td>2</td>\n",
       "      <td>50</td>\n",
       "      <td>656</td>\n",
       "      <td>91</td>\n",
       "    </tr>\n",
       "    <tr>\n",
       "      <th>21287998</th>\n",
       "      <td>2014-09-18 16:15:54</td>\n",
       "      <td>2</td>\n",
       "      <td>3</td>\n",
       "      <td>66</td>\n",
       "      <td>462</td>\n",
       "      <td>48217</td>\n",
       "      <td>1037.6654</td>\n",
       "      <td>522505</td>\n",
       "      <td>1</td>\n",
       "      <td>0</td>\n",
       "      <td>...</td>\n",
       "      <td>4</td>\n",
       "      <td>1</td>\n",
       "      <td>8236</td>\n",
       "      <td>1</td>\n",
       "      <td>1</td>\n",
       "      <td>1</td>\n",
       "      <td>2</td>\n",
       "      <td>50</td>\n",
       "      <td>656</td>\n",
       "      <td>42</td>\n",
       "    </tr>\n",
       "    <tr>\n",
       "      <th>14115872</th>\n",
       "      <td>2014-06-10 18:01:42</td>\n",
       "      <td>2</td>\n",
       "      <td>3</td>\n",
       "      <td>66</td>\n",
       "      <td>325</td>\n",
       "      <td>32561</td>\n",
       "      <td>206.7990</td>\n",
       "      <td>124909</td>\n",
       "      <td>0</td>\n",
       "      <td>0</td>\n",
       "      <td>...</td>\n",
       "      <td>0</td>\n",
       "      <td>1</td>\n",
       "      <td>44374</td>\n",
       "      <td>1</td>\n",
       "      <td>1</td>\n",
       "      <td>1</td>\n",
       "      <td>2</td>\n",
       "      <td>50</td>\n",
       "      <td>1653</td>\n",
       "      <td>42</td>\n",
       "    </tr>\n",
       "  </tbody>\n",
       "</table>\n",
       "<p>5 rows × 24 columns</p>\n",
       "</div>"
      ],
      "text/plain": [
       "                    date_time  site_name  posa_continent  \\\n",
       "16993221  2014-01-26 02:40:37          2               3   \n",
       "23837032  2014-10-28 02:11:27         18               2   \n",
       "1644236   2014-07-23 20:34:39          2               3   \n",
       "21287998  2014-09-18 16:15:54          2               3   \n",
       "14115872  2014-06-10 18:01:42          2               3   \n",
       "\n",
       "          user_location_country  user_location_region  user_location_city  \\\n",
       "16993221                     63                   451               29000   \n",
       "23837032                    119                     0               27731   \n",
       "1644236                      66                   184               11740   \n",
       "21287998                     66                   462               48217   \n",
       "14115872                     66                   325               32561   \n",
       "\n",
       "          orig_destination_distance  user_id  is_mobile  is_package  ...  \\\n",
       "16993221                   118.5376   656753          0           0  ...   \n",
       "23837032                        NaN   186216          0           0  ...   \n",
       "1644236                     37.4398   399072          0           0  ...   \n",
       "21287998                  1037.6654   522505          1           0  ...   \n",
       "14115872                   206.7990   124909          0           0  ...   \n",
       "\n",
       "          srch_children_cnt srch_rm_cnt srch_destination_id  \\\n",
       "16993221                  0           1               21873   \n",
       "23837032                  0           1               22235   \n",
       "1644236                   1           1                8236   \n",
       "21287998                  4           1                8236   \n",
       "14115872                  0           1               44374   \n",
       "\n",
       "          srch_destination_type_id  is_booking  cnt  hotel_continent  \\\n",
       "16993221                         1           1    1                6   \n",
       "23837032                         6           1    1                6   \n",
       "1644236                          1           1    1                2   \n",
       "21287998                         1           1    1                2   \n",
       "14115872                         1           1    1                2   \n",
       "\n",
       "          hotel_country  hotel_market  hotel_cluster  \n",
       "16993221             46          1089             91  \n",
       "23837032             77             2             59  \n",
       "1644236              50           656             91  \n",
       "21287998             50           656             42  \n",
       "14115872             50          1653             42  \n",
       "\n",
       "[5 rows x 24 columns]"
      ]
     },
     "execution_count": 14,
     "metadata": {},
     "output_type": "execute_result"
    }
   ],
   "source": [
    "random_sample.head()"
   ]
  },
  {
   "cell_type": "code",
   "execution_count": 15,
   "id": "d3e5d629",
   "metadata": {},
   "outputs": [
    {
     "data": {
      "text/plain": [
       "(100000, 24)"
      ]
     },
     "execution_count": 15,
     "metadata": {},
     "output_type": "execute_result"
    }
   ],
   "source": [
    "random_sample.shape"
   ]
  },
  {
   "cell_type": "markdown",
   "id": "6077f3c2",
   "metadata": {},
   "source": [
    "Basic statistics of the data"
   ]
  },
  {
   "cell_type": "code",
   "execution_count": 16,
   "id": "9ae0df89",
   "metadata": {},
   "outputs": [
    {
     "data": {
      "text/html": [
       "<div>\n",
       "<style scoped>\n",
       "    .dataframe tbody tr th:only-of-type {\n",
       "        vertical-align: middle;\n",
       "    }\n",
       "\n",
       "    .dataframe tbody tr th {\n",
       "        vertical-align: top;\n",
       "    }\n",
       "\n",
       "    .dataframe thead th {\n",
       "        text-align: right;\n",
       "    }\n",
       "</style>\n",
       "<table border=\"1\" class=\"dataframe\">\n",
       "  <thead>\n",
       "    <tr style=\"text-align: right;\">\n",
       "      <th></th>\n",
       "      <th>count</th>\n",
       "      <th>mean</th>\n",
       "      <th>std</th>\n",
       "      <th>min</th>\n",
       "      <th>25%</th>\n",
       "      <th>50%</th>\n",
       "      <th>75%</th>\n",
       "      <th>max</th>\n",
       "    </tr>\n",
       "  </thead>\n",
       "  <tbody>\n",
       "    <tr>\n",
       "      <th>site_name</th>\n",
       "      <td>100000.0</td>\n",
       "      <td>7.169870</td>\n",
       "      <td>10.669735</td>\n",
       "      <td>2.0000</td>\n",
       "      <td>2.0000</td>\n",
       "      <td>2.0000</td>\n",
       "      <td>2.0000</td>\n",
       "      <td>5.300000e+01</td>\n",
       "    </tr>\n",
       "    <tr>\n",
       "      <th>posa_continent</th>\n",
       "      <td>100000.0</td>\n",
       "      <td>2.855500</td>\n",
       "      <td>0.540595</td>\n",
       "      <td>0.0000</td>\n",
       "      <td>3.0000</td>\n",
       "      <td>3.0000</td>\n",
       "      <td>3.0000</td>\n",
       "      <td>4.000000e+00</td>\n",
       "    </tr>\n",
       "    <tr>\n",
       "      <th>user_location_country</th>\n",
       "      <td>100000.0</td>\n",
       "      <td>87.895890</td>\n",
       "      <td>54.298385</td>\n",
       "      <td>0.0000</td>\n",
       "      <td>66.0000</td>\n",
       "      <td>66.0000</td>\n",
       "      <td>66.0000</td>\n",
       "      <td>2.390000e+02</td>\n",
       "    </tr>\n",
       "    <tr>\n",
       "      <th>user_location_region</th>\n",
       "      <td>100000.0</td>\n",
       "      <td>314.379360</td>\n",
       "      <td>166.031814</td>\n",
       "      <td>0.0000</td>\n",
       "      <td>174.0000</td>\n",
       "      <td>321.0000</td>\n",
       "      <td>385.0000</td>\n",
       "      <td>1.021000e+03</td>\n",
       "    </tr>\n",
       "    <tr>\n",
       "      <th>user_location_city</th>\n",
       "      <td>100000.0</td>\n",
       "      <td>27876.212930</td>\n",
       "      <td>16564.833483</td>\n",
       "      <td>1.0000</td>\n",
       "      <td>13910.0000</td>\n",
       "      <td>27655.0000</td>\n",
       "      <td>42396.0000</td>\n",
       "      <td>5.650700e+04</td>\n",
       "    </tr>\n",
       "    <tr>\n",
       "      <th>orig_destination_distance</th>\n",
       "      <td>76421.0</td>\n",
       "      <td>1009.320472</td>\n",
       "      <td>1473.470374</td>\n",
       "      <td>0.0056</td>\n",
       "      <td>165.2992</td>\n",
       "      <td>436.0174</td>\n",
       "      <td>1217.9191</td>\n",
       "      <td>1.166669e+04</td>\n",
       "    </tr>\n",
       "    <tr>\n",
       "      <th>user_id</th>\n",
       "      <td>100000.0</td>\n",
       "      <td>600256.328790</td>\n",
       "      <td>343858.208209</td>\n",
       "      <td>11.0000</td>\n",
       "      <td>305813.0000</td>\n",
       "      <td>600696.0000</td>\n",
       "      <td>895193.2500</td>\n",
       "      <td>1.198760e+06</td>\n",
       "    </tr>\n",
       "    <tr>\n",
       "      <th>is_mobile</th>\n",
       "      <td>100000.0</td>\n",
       "      <td>0.105040</td>\n",
       "      <td>0.306606</td>\n",
       "      <td>0.0000</td>\n",
       "      <td>0.0000</td>\n",
       "      <td>0.0000</td>\n",
       "      <td>0.0000</td>\n",
       "      <td>1.000000e+00</td>\n",
       "    </tr>\n",
       "    <tr>\n",
       "      <th>is_package</th>\n",
       "      <td>100000.0</td>\n",
       "      <td>0.068930</td>\n",
       "      <td>0.253336</td>\n",
       "      <td>0.0000</td>\n",
       "      <td>0.0000</td>\n",
       "      <td>0.0000</td>\n",
       "      <td>0.0000</td>\n",
       "      <td>1.000000e+00</td>\n",
       "    </tr>\n",
       "    <tr>\n",
       "      <th>channel</th>\n",
       "      <td>100000.0</td>\n",
       "      <td>6.332630</td>\n",
       "      <td>3.650208</td>\n",
       "      <td>0.0000</td>\n",
       "      <td>2.0000</td>\n",
       "      <td>9.0000</td>\n",
       "      <td>9.0000</td>\n",
       "      <td>1.000000e+01</td>\n",
       "    </tr>\n",
       "    <tr>\n",
       "      <th>srch_adults_cnt</th>\n",
       "      <td>100000.0</td>\n",
       "      <td>1.843860</td>\n",
       "      <td>0.914488</td>\n",
       "      <td>0.0000</td>\n",
       "      <td>1.0000</td>\n",
       "      <td>2.0000</td>\n",
       "      <td>2.0000</td>\n",
       "      <td>9.000000e+00</td>\n",
       "    </tr>\n",
       "    <tr>\n",
       "      <th>srch_children_cnt</th>\n",
       "      <td>100000.0</td>\n",
       "      <td>0.329570</td>\n",
       "      <td>0.731874</td>\n",
       "      <td>0.0000</td>\n",
       "      <td>0.0000</td>\n",
       "      <td>0.0000</td>\n",
       "      <td>0.0000</td>\n",
       "      <td>9.000000e+00</td>\n",
       "    </tr>\n",
       "    <tr>\n",
       "      <th>srch_rm_cnt</th>\n",
       "      <td>100000.0</td>\n",
       "      <td>1.132200</td>\n",
       "      <td>0.494778</td>\n",
       "      <td>0.0000</td>\n",
       "      <td>1.0000</td>\n",
       "      <td>1.0000</td>\n",
       "      <td>1.0000</td>\n",
       "      <td>8.000000e+00</td>\n",
       "    </tr>\n",
       "    <tr>\n",
       "      <th>srch_destination_id</th>\n",
       "      <td>100000.0</td>\n",
       "      <td>16414.559690</td>\n",
       "      <td>11920.085931</td>\n",
       "      <td>7.0000</td>\n",
       "      <td>8267.0000</td>\n",
       "      <td>12264.0000</td>\n",
       "      <td>24893.0000</td>\n",
       "      <td>6.504700e+04</td>\n",
       "    </tr>\n",
       "    <tr>\n",
       "      <th>srch_destination_type_id</th>\n",
       "      <td>100000.0</td>\n",
       "      <td>3.116720</td>\n",
       "      <td>2.197668</td>\n",
       "      <td>1.0000</td>\n",
       "      <td>1.0000</td>\n",
       "      <td>3.0000</td>\n",
       "      <td>6.0000</td>\n",
       "      <td>9.000000e+00</td>\n",
       "    </tr>\n",
       "    <tr>\n",
       "      <th>is_booking</th>\n",
       "      <td>100000.0</td>\n",
       "      <td>1.000000</td>\n",
       "      <td>0.000000</td>\n",
       "      <td>1.0000</td>\n",
       "      <td>1.0000</td>\n",
       "      <td>1.0000</td>\n",
       "      <td>1.0000</td>\n",
       "      <td>1.000000e+00</td>\n",
       "    </tr>\n",
       "    <tr>\n",
       "      <th>cnt</th>\n",
       "      <td>100000.0</td>\n",
       "      <td>1.012550</td>\n",
       "      <td>0.127486</td>\n",
       "      <td>1.0000</td>\n",
       "      <td>1.0000</td>\n",
       "      <td>1.0000</td>\n",
       "      <td>1.0000</td>\n",
       "      <td>7.000000e+00</td>\n",
       "    </tr>\n",
       "    <tr>\n",
       "      <th>hotel_continent</th>\n",
       "      <td>100000.0</td>\n",
       "      <td>2.400600</td>\n",
       "      <td>1.157131</td>\n",
       "      <td>0.0000</td>\n",
       "      <td>2.0000</td>\n",
       "      <td>2.0000</td>\n",
       "      <td>2.0000</td>\n",
       "      <td>6.000000e+00</td>\n",
       "    </tr>\n",
       "    <tr>\n",
       "      <th>hotel_country</th>\n",
       "      <td>100000.0</td>\n",
       "      <td>69.827220</td>\n",
       "      <td>47.412852</td>\n",
       "      <td>5.0000</td>\n",
       "      <td>50.0000</td>\n",
       "      <td>50.0000</td>\n",
       "      <td>50.0000</td>\n",
       "      <td>2.080000e+02</td>\n",
       "    </tr>\n",
       "    <tr>\n",
       "      <th>hotel_market</th>\n",
       "      <td>100000.0</td>\n",
       "      <td>610.380490</td>\n",
       "      <td>368.268338</td>\n",
       "      <td>2.0000</td>\n",
       "      <td>376.0000</td>\n",
       "      <td>614.0000</td>\n",
       "      <td>699.0000</td>\n",
       "      <td>2.117000e+03</td>\n",
       "    </tr>\n",
       "    <tr>\n",
       "      <th>hotel_cluster</th>\n",
       "      <td>100000.0</td>\n",
       "      <td>58.231900</td>\n",
       "      <td>22.972277</td>\n",
       "      <td>28.0000</td>\n",
       "      <td>42.0000</td>\n",
       "      <td>48.0000</td>\n",
       "      <td>91.0000</td>\n",
       "      <td>9.100000e+01</td>\n",
       "    </tr>\n",
       "  </tbody>\n",
       "</table>\n",
       "</div>"
      ],
      "text/plain": [
       "                              count           mean            std      min  \\\n",
       "site_name                  100000.0       7.169870      10.669735   2.0000   \n",
       "posa_continent             100000.0       2.855500       0.540595   0.0000   \n",
       "user_location_country      100000.0      87.895890      54.298385   0.0000   \n",
       "user_location_region       100000.0     314.379360     166.031814   0.0000   \n",
       "user_location_city         100000.0   27876.212930   16564.833483   1.0000   \n",
       "orig_destination_distance   76421.0    1009.320472    1473.470374   0.0056   \n",
       "user_id                    100000.0  600256.328790  343858.208209  11.0000   \n",
       "is_mobile                  100000.0       0.105040       0.306606   0.0000   \n",
       "is_package                 100000.0       0.068930       0.253336   0.0000   \n",
       "channel                    100000.0       6.332630       3.650208   0.0000   \n",
       "srch_adults_cnt            100000.0       1.843860       0.914488   0.0000   \n",
       "srch_children_cnt          100000.0       0.329570       0.731874   0.0000   \n",
       "srch_rm_cnt                100000.0       1.132200       0.494778   0.0000   \n",
       "srch_destination_id        100000.0   16414.559690   11920.085931   7.0000   \n",
       "srch_destination_type_id   100000.0       3.116720       2.197668   1.0000   \n",
       "is_booking                 100000.0       1.000000       0.000000   1.0000   \n",
       "cnt                        100000.0       1.012550       0.127486   1.0000   \n",
       "hotel_continent            100000.0       2.400600       1.157131   0.0000   \n",
       "hotel_country              100000.0      69.827220      47.412852   5.0000   \n",
       "hotel_market               100000.0     610.380490     368.268338   2.0000   \n",
       "hotel_cluster              100000.0      58.231900      22.972277  28.0000   \n",
       "\n",
       "                                   25%          50%          75%           max  \n",
       "site_name                       2.0000       2.0000       2.0000  5.300000e+01  \n",
       "posa_continent                  3.0000       3.0000       3.0000  4.000000e+00  \n",
       "user_location_country          66.0000      66.0000      66.0000  2.390000e+02  \n",
       "user_location_region          174.0000     321.0000     385.0000  1.021000e+03  \n",
       "user_location_city          13910.0000   27655.0000   42396.0000  5.650700e+04  \n",
       "orig_destination_distance     165.2992     436.0174    1217.9191  1.166669e+04  \n",
       "user_id                    305813.0000  600696.0000  895193.2500  1.198760e+06  \n",
       "is_mobile                       0.0000       0.0000       0.0000  1.000000e+00  \n",
       "is_package                      0.0000       0.0000       0.0000  1.000000e+00  \n",
       "channel                         2.0000       9.0000       9.0000  1.000000e+01  \n",
       "srch_adults_cnt                 1.0000       2.0000       2.0000  9.000000e+00  \n",
       "srch_children_cnt               0.0000       0.0000       0.0000  9.000000e+00  \n",
       "srch_rm_cnt                     1.0000       1.0000       1.0000  8.000000e+00  \n",
       "srch_destination_id          8267.0000   12264.0000   24893.0000  6.504700e+04  \n",
       "srch_destination_type_id        1.0000       3.0000       6.0000  9.000000e+00  \n",
       "is_booking                      1.0000       1.0000       1.0000  1.000000e+00  \n",
       "cnt                             1.0000       1.0000       1.0000  7.000000e+00  \n",
       "hotel_continent                 2.0000       2.0000       2.0000  6.000000e+00  \n",
       "hotel_country                  50.0000      50.0000      50.0000  2.080000e+02  \n",
       "hotel_market                  376.0000     614.0000     699.0000  2.117000e+03  \n",
       "hotel_cluster                  42.0000      48.0000      91.0000  9.100000e+01  "
      ]
     },
     "execution_count": 16,
     "metadata": {},
     "output_type": "execute_result"
    }
   ],
   "source": [
    "random_sample.describe().T"
   ]
  },
  {
   "cell_type": "code",
   "execution_count": 17,
   "id": "4ac2e750",
   "metadata": {},
   "outputs": [],
   "source": [
    "#resetting index\n",
    "random_sample = random_sample.reset_index(drop=True)"
   ]
  },
  {
   "cell_type": "code",
   "execution_count": 18,
   "id": "db307431",
   "metadata": {},
   "outputs": [
    {
     "data": {
      "text/html": [
       "<div>\n",
       "<style scoped>\n",
       "    .dataframe tbody tr th:only-of-type {\n",
       "        vertical-align: middle;\n",
       "    }\n",
       "\n",
       "    .dataframe tbody tr th {\n",
       "        vertical-align: top;\n",
       "    }\n",
       "\n",
       "    .dataframe thead th {\n",
       "        text-align: right;\n",
       "    }\n",
       "</style>\n",
       "<table border=\"1\" class=\"dataframe\">\n",
       "  <thead>\n",
       "    <tr style=\"text-align: right;\">\n",
       "      <th></th>\n",
       "      <th>date_time</th>\n",
       "      <th>site_name</th>\n",
       "      <th>posa_continent</th>\n",
       "      <th>user_location_country</th>\n",
       "      <th>user_location_region</th>\n",
       "      <th>user_location_city</th>\n",
       "      <th>orig_destination_distance</th>\n",
       "      <th>user_id</th>\n",
       "      <th>is_mobile</th>\n",
       "      <th>is_package</th>\n",
       "      <th>...</th>\n",
       "      <th>srch_children_cnt</th>\n",
       "      <th>srch_rm_cnt</th>\n",
       "      <th>srch_destination_id</th>\n",
       "      <th>srch_destination_type_id</th>\n",
       "      <th>is_booking</th>\n",
       "      <th>cnt</th>\n",
       "      <th>hotel_continent</th>\n",
       "      <th>hotel_country</th>\n",
       "      <th>hotel_market</th>\n",
       "      <th>hotel_cluster</th>\n",
       "    </tr>\n",
       "  </thead>\n",
       "  <tbody>\n",
       "    <tr>\n",
       "      <th>0</th>\n",
       "      <td>2014-01-26 02:40:37</td>\n",
       "      <td>2</td>\n",
       "      <td>3</td>\n",
       "      <td>63</td>\n",
       "      <td>451</td>\n",
       "      <td>29000</td>\n",
       "      <td>118.5376</td>\n",
       "      <td>656753</td>\n",
       "      <td>0</td>\n",
       "      <td>0</td>\n",
       "      <td>...</td>\n",
       "      <td>0</td>\n",
       "      <td>1</td>\n",
       "      <td>21873</td>\n",
       "      <td>1</td>\n",
       "      <td>1</td>\n",
       "      <td>1</td>\n",
       "      <td>6</td>\n",
       "      <td>46</td>\n",
       "      <td>1089</td>\n",
       "      <td>91</td>\n",
       "    </tr>\n",
       "    <tr>\n",
       "      <th>1</th>\n",
       "      <td>2014-10-28 02:11:27</td>\n",
       "      <td>18</td>\n",
       "      <td>2</td>\n",
       "      <td>119</td>\n",
       "      <td>0</td>\n",
       "      <td>27731</td>\n",
       "      <td>NaN</td>\n",
       "      <td>186216</td>\n",
       "      <td>0</td>\n",
       "      <td>0</td>\n",
       "      <td>...</td>\n",
       "      <td>0</td>\n",
       "      <td>1</td>\n",
       "      <td>22235</td>\n",
       "      <td>6</td>\n",
       "      <td>1</td>\n",
       "      <td>1</td>\n",
       "      <td>6</td>\n",
       "      <td>77</td>\n",
       "      <td>2</td>\n",
       "      <td>59</td>\n",
       "    </tr>\n",
       "    <tr>\n",
       "      <th>2</th>\n",
       "      <td>2014-07-23 20:34:39</td>\n",
       "      <td>2</td>\n",
       "      <td>3</td>\n",
       "      <td>66</td>\n",
       "      <td>184</td>\n",
       "      <td>11740</td>\n",
       "      <td>37.4398</td>\n",
       "      <td>399072</td>\n",
       "      <td>0</td>\n",
       "      <td>0</td>\n",
       "      <td>...</td>\n",
       "      <td>1</td>\n",
       "      <td>1</td>\n",
       "      <td>8236</td>\n",
       "      <td>1</td>\n",
       "      <td>1</td>\n",
       "      <td>1</td>\n",
       "      <td>2</td>\n",
       "      <td>50</td>\n",
       "      <td>656</td>\n",
       "      <td>91</td>\n",
       "    </tr>\n",
       "    <tr>\n",
       "      <th>3</th>\n",
       "      <td>2014-09-18 16:15:54</td>\n",
       "      <td>2</td>\n",
       "      <td>3</td>\n",
       "      <td>66</td>\n",
       "      <td>462</td>\n",
       "      <td>48217</td>\n",
       "      <td>1037.6654</td>\n",
       "      <td>522505</td>\n",
       "      <td>1</td>\n",
       "      <td>0</td>\n",
       "      <td>...</td>\n",
       "      <td>4</td>\n",
       "      <td>1</td>\n",
       "      <td>8236</td>\n",
       "      <td>1</td>\n",
       "      <td>1</td>\n",
       "      <td>1</td>\n",
       "      <td>2</td>\n",
       "      <td>50</td>\n",
       "      <td>656</td>\n",
       "      <td>42</td>\n",
       "    </tr>\n",
       "    <tr>\n",
       "      <th>4</th>\n",
       "      <td>2014-06-10 18:01:42</td>\n",
       "      <td>2</td>\n",
       "      <td>3</td>\n",
       "      <td>66</td>\n",
       "      <td>325</td>\n",
       "      <td>32561</td>\n",
       "      <td>206.7990</td>\n",
       "      <td>124909</td>\n",
       "      <td>0</td>\n",
       "      <td>0</td>\n",
       "      <td>...</td>\n",
       "      <td>0</td>\n",
       "      <td>1</td>\n",
       "      <td>44374</td>\n",
       "      <td>1</td>\n",
       "      <td>1</td>\n",
       "      <td>1</td>\n",
       "      <td>2</td>\n",
       "      <td>50</td>\n",
       "      <td>1653</td>\n",
       "      <td>42</td>\n",
       "    </tr>\n",
       "  </tbody>\n",
       "</table>\n",
       "<p>5 rows × 24 columns</p>\n",
       "</div>"
      ],
      "text/plain": [
       "             date_time  site_name  posa_continent  user_location_country  \\\n",
       "0  2014-01-26 02:40:37          2               3                     63   \n",
       "1  2014-10-28 02:11:27         18               2                    119   \n",
       "2  2014-07-23 20:34:39          2               3                     66   \n",
       "3  2014-09-18 16:15:54          2               3                     66   \n",
       "4  2014-06-10 18:01:42          2               3                     66   \n",
       "\n",
       "   user_location_region  user_location_city  orig_destination_distance  \\\n",
       "0                   451               29000                   118.5376   \n",
       "1                     0               27731                        NaN   \n",
       "2                   184               11740                    37.4398   \n",
       "3                   462               48217                  1037.6654   \n",
       "4                   325               32561                   206.7990   \n",
       "\n",
       "   user_id  is_mobile  is_package  ...  srch_children_cnt srch_rm_cnt  \\\n",
       "0   656753          0           0  ...                  0           1   \n",
       "1   186216          0           0  ...                  0           1   \n",
       "2   399072          0           0  ...                  1           1   \n",
       "3   522505          1           0  ...                  4           1   \n",
       "4   124909          0           0  ...                  0           1   \n",
       "\n",
       "  srch_destination_id  srch_destination_type_id  is_booking  cnt  \\\n",
       "0               21873                         1           1    1   \n",
       "1               22235                         6           1    1   \n",
       "2                8236                         1           1    1   \n",
       "3                8236                         1           1    1   \n",
       "4               44374                         1           1    1   \n",
       "\n",
       "   hotel_continent  hotel_country  hotel_market  hotel_cluster  \n",
       "0                6             46          1089             91  \n",
       "1                6             77             2             59  \n",
       "2                2             50           656             91  \n",
       "3                2             50           656             42  \n",
       "4                2             50          1653             42  \n",
       "\n",
       "[5 rows x 24 columns]"
      ]
     },
     "execution_count": 18,
     "metadata": {},
     "output_type": "execute_result"
    }
   ],
   "source": [
    "random_sample.head()"
   ]
  },
  {
   "cell_type": "markdown",
   "id": "4e3bac08",
   "metadata": {},
   "source": [
    "1.3 checking all variables - in conjunction with bookings "
   ]
  },
  {
   "cell_type": "code",
   "execution_count": 19,
   "id": "2f9d7197",
   "metadata": {},
   "outputs": [
    {
     "data": {
      "text/plain": [
       "0        2014-01-26 02:40:37\n",
       "1        2014-10-28 02:11:27\n",
       "2        2014-07-23 20:34:39\n",
       "3        2014-09-18 16:15:54\n",
       "4        2014-06-10 18:01:42\n",
       "                ...         \n",
       "99995    2014-04-24 19:14:44\n",
       "99996    2013-08-06 10:07:01\n",
       "99997    2014-06-13 07:17:35\n",
       "99998    2014-07-05 00:49:32\n",
       "99999    2014-03-12 09:14:38\n",
       "Name: date_time, Length: 100000, dtype: object"
      ]
     },
     "execution_count": 19,
     "metadata": {},
     "output_type": "execute_result"
    }
   ],
   "source": [
    "random_sample['date_time']"
   ]
  },
  {
   "cell_type": "code",
   "execution_count": 20,
   "id": "3eb984be",
   "metadata": {},
   "outputs": [
    {
     "data": {
      "text/plain": [
       "site_name\n",
       "2     4501853\n",
       "11     391481\n",
       "34     353418\n",
       "37     161701\n",
       "24     103164\n",
       "Name: hotel_cluster, dtype: int64"
      ]
     },
     "execution_count": 20,
     "metadata": {},
     "output_type": "execute_result"
    }
   ],
   "source": [
    "#Site name - ID of the Expedia point of sale (i.e. Expedia.com, Expedia.co.uk, Expedia.co.jp, ...)\t\n",
    "random_sample.groupby('site_name')['hotel_cluster'].sum().sort_values(ascending = False).head()\n",
    "\n",
    "#maximum booking is done using site 2, followed by 11, 24, 37, 34 "
   ]
  },
  {
   "cell_type": "code",
   "execution_count": 21,
   "id": "4dd35485",
   "metadata": {},
   "outputs": [
    {
     "data": {
      "text/plain": [
       "site_name\n",
       "2     75849\n",
       "11     7064\n",
       "34     6425\n",
       "37     3055\n",
       "24     1916\n",
       "Name: is_booking, dtype: int64"
      ]
     },
     "execution_count": 21,
     "metadata": {},
     "output_type": "execute_result"
    }
   ],
   "source": [
    "random_sample.groupby('site_name')['is_booking'].sum().sort_values(ascending = False).head()\n",
    "#maximum booking is done using site 2, followed by 11, 24, 37, 34 "
   ]
  },
  {
   "cell_type": "code",
   "execution_count": 22,
   "id": "ca143ade",
   "metadata": {},
   "outputs": [
    {
     "data": {
      "text/plain": [
       "posa_continent\n",
       "3    5259989\n",
       "1     320404\n",
       "2     147789\n",
       "4      73872\n",
       "0      21136\n",
       "Name: hotel_cluster, dtype: int64"
      ]
     },
     "execution_count": 22,
     "metadata": {},
     "output_type": "execute_result"
    }
   ],
   "source": [
    "#posa continent - ID of continent associated with site_name\t\n",
    "random_sample.groupby('posa_continent')['hotel_cluster'].sum().sort_values(ascending = False)\n",
    "\n",
    "#maximum hotel clusters = 3"
   ]
  },
  {
   "cell_type": "code",
   "execution_count": 23,
   "id": "03bcd910",
   "metadata": {
    "scrolled": true
   },
   "outputs": [
    {
     "data": {
      "text/plain": [
       "posa_continent\n",
       "3    89574\n",
       "1     5962\n",
       "2     2745\n",
       "4     1344\n",
       "0      375\n",
       "Name: is_booking, dtype: int64"
      ]
     },
     "execution_count": 23,
     "metadata": {},
     "output_type": "execute_result"
    }
   ],
   "source": [
    "#posa continent - ID of continent associated with site_name\t\n",
    "random_sample.groupby('posa_continent')['is_booking'].sum().sort_values(ascending = False)\n",
    "\n",
    "#maximum hotel clusters = 3"
   ]
  },
  {
   "cell_type": "code",
   "execution_count": 24,
   "id": "b9f1a162",
   "metadata": {},
   "outputs": [
    {
     "data": {
      "text/plain": [
       "user_location_country\n",
       "66     70455\n",
       "205    12810\n",
       "69      2939\n",
       "3       1863\n",
       "46      1338\n",
       "215     1250\n",
       "77      1030\n",
       "1        574\n",
       "133      412\n",
       "23       410\n",
       "Name: is_booking, dtype: int64"
      ]
     },
     "execution_count": 24,
     "metadata": {},
     "output_type": "execute_result"
    }
   ],
   "source": [
    "#user_location_country - The ID of the country the customer is located\t\n",
    "\n",
    "random_sample.groupby('user_location_country')['is_booking'].sum().sort_values(ascending = False).head(10)\n",
    "\n",
    "#top country = 66 "
   ]
  },
  {
   "cell_type": "code",
   "execution_count": 25,
   "id": "f3d0a92c",
   "metadata": {},
   "outputs": [
    {
     "data": {
      "text/plain": [
       "user_location_region\n",
       "174    10718\n",
       "442     6176\n",
       "354     5378\n",
       "220     4616\n",
       "348     3841\n",
       "462     3120\n",
       "258     2767\n",
       "135     2583\n",
       "155     2324\n",
       "363     2313\n",
       "Name: is_booking, dtype: int64"
      ]
     },
     "execution_count": 25,
     "metadata": {},
     "output_type": "execute_result"
    }
   ],
   "source": [
    "#user_region_country - The ID of the region the customer is located\t # can be excluded\n",
    "\n",
    "random_sample.groupby('user_location_region')['is_booking'].sum().sort_values(ascending = False).head(10)\n",
    "\n",
    "#top region = 174 \n"
   ]
  },
  {
   "cell_type": "code",
   "execution_count": 26,
   "id": "46c11bb6",
   "metadata": {},
   "outputs": [
    {
     "data": {
      "text/plain": [
       "user_location_city\n",
       "48862    1204\n",
       "25315    1048\n",
       "36086    1019\n",
       "35390     955\n",
       "24103     910\n",
       "49272     760\n",
       "14703     696\n",
       "4687      676\n",
       "27655     635\n",
       "2086      628\n",
       "Name: is_booking, dtype: int64"
      ]
     },
     "execution_count": 26,
     "metadata": {},
     "output_type": "execute_result"
    }
   ],
   "source": [
    "#user_city_country - The ID of the city the customer is located\t # can be excluded\n",
    "\n",
    "random_sample.groupby('user_location_city')['is_booking'].sum().sort_values(ascending = False).head(10)\n",
    "\n",
    "#top city = 5703\n",
    "\n"
   ]
  },
  {
   "cell_type": "code",
   "execution_count": 27,
   "id": "5532d61d",
   "metadata": {},
   "outputs": [
    {
     "data": {
      "text/plain": [
       "orig_destination_distance\n",
       "5.1309      21\n",
       "6.4762      14\n",
       "219.2214    13\n",
       "0.0056      12\n",
       "172.6808    12\n",
       "42.9629     12\n",
       "249.2719    10\n",
       "76.6513     10\n",
       "198.2220    10\n",
       "167.9331    10\n",
       "Name: is_booking, dtype: int64"
      ]
     },
     "execution_count": 27,
     "metadata": {},
     "output_type": "execute_result"
    }
   ],
   "source": [
    "#orig_destination_distance\tPhysical distance between a hotel and a customer at the time of search. A null means the distance could not be calculated\n",
    "#can be excluded\n",
    "\n",
    "random_sample.groupby('orig_destination_distance')['is_booking'].sum().sort_values(ascending = False).head(10)\n",
    "\n"
   ]
  },
  {
   "cell_type": "code",
   "execution_count": 28,
   "id": "2a2e60b2",
   "metadata": {},
   "outputs": [
    {
     "data": {
      "text/plain": [
       "is_mobile\n",
       "0    89496\n",
       "1    10504\n",
       "Name: is_booking, dtype: int64"
      ]
     },
     "execution_count": 28,
     "metadata": {},
     "output_type": "execute_result"
    }
   ],
   "source": [
    "#is_mobile\t1 when a user connected from a mobile device, 0 otherwise\n",
    "\n",
    "random_sample.groupby('is_mobile')['is_booking'].sum().sort_values(ascending = False).head(10)\n",
    "\n",
    "#max users are not connected via mobile"
   ]
  },
  {
   "cell_type": "code",
   "execution_count": 29,
   "id": "8334b4f7",
   "metadata": {},
   "outputs": [
    {
     "data": {
      "text/plain": [
       "is_package\n",
       "0    93107\n",
       "1     6893\n",
       "Name: is_booking, dtype: int64"
      ]
     },
     "execution_count": 29,
     "metadata": {},
     "output_type": "execute_result"
    }
   ],
   "source": [
    "#is_package\t1 if the click/booking was generated as a part of a package (i.e. combined with a flight), 0 otherwise\n",
    "\n",
    "random_sample.groupby('is_package')['is_booking'].sum().sort_values(ascending = False).head(10)\n",
    "\n",
    "#majority was with a package"
   ]
  },
  {
   "cell_type": "code",
   "execution_count": 30,
   "id": "485872f3",
   "metadata": {},
   "outputs": [
    {
     "data": {
      "text/plain": [
       "channel\n",
       "9    62778\n",
       "0    11993\n",
       "1     8451\n",
       "2     5899\n",
       "5     4475\n",
       "4     3247\n",
       "3     2430\n",
       "7      339\n",
       "8      315\n",
       "6       66\n",
       "Name: is_booking, dtype: int64"
      ]
     },
     "execution_count": 30,
     "metadata": {},
     "output_type": "execute_result"
    }
   ],
   "source": [
    "#channel\tID of a marketing channel\n",
    "\n",
    "random_sample.groupby('channel')['is_booking'].sum().sort_values(ascending = False).head(10)\n",
    "\n",
    "#major bookings = channel 9\n"
   ]
  },
  {
   "cell_type": "code",
   "execution_count": 31,
   "id": "59da8fbd",
   "metadata": {},
   "outputs": [
    {
     "data": {
      "text/plain": [
       "0        2014-01-27\n",
       "1        2015-08-10\n",
       "2        2014-07-24\n",
       "3        2014-09-18\n",
       "4        2014-06-11\n",
       "            ...    \n",
       "99995    2014-04-26\n",
       "99996    2013-08-08\n",
       "99997    2014-08-04\n",
       "99998    2014-07-13\n",
       "99999    2014-04-07\n",
       "Name: srch_ci, Length: 100000, dtype: object"
      ]
     },
     "execution_count": 31,
     "metadata": {},
     "output_type": "execute_result"
    }
   ],
   "source": [
    "#srch_ci\tCheckin date\n",
    "#srch_co\tCheckout date\t\n",
    "random_sample['srch_ci']\n"
   ]
  },
  {
   "cell_type": "code",
   "execution_count": 32,
   "id": "ac73da46",
   "metadata": {},
   "outputs": [],
   "source": [
    "#srch_adults_cnt\tThe number of adults specified in the hotel room\n",
    "#srch_children_cnt\tThe number of (extra occupancy) children specified in the hotel room\n",
    "#srch_rm_cnt\tThe number of hotel rooms specified in the search"
   ]
  },
  {
   "cell_type": "code",
   "execution_count": 33,
   "id": "cadfd9bd",
   "metadata": {},
   "outputs": [
    {
     "data": {
      "text/plain": [
       "srch_adults_cnt\n",
       "2    53394\n",
       "1    35580\n",
       "3     4932\n",
       "4     4409\n",
       "6      639\n",
       "5      600\n",
       "8      212\n",
       "7      111\n",
       "0       92\n",
       "9       31\n",
       "Name: is_booking, dtype: int64"
      ]
     },
     "execution_count": 33,
     "metadata": {},
     "output_type": "execute_result"
    }
   ],
   "source": [
    "random_sample.groupby('srch_adults_cnt')['is_booking'].sum().sort_values(ascending = False).head(10)\n",
    "\n",
    "#max booking is with 2 adults, followed by 1 \n"
   ]
  },
  {
   "cell_type": "code",
   "execution_count": 34,
   "id": "14747d5f",
   "metadata": {},
   "outputs": [
    {
     "data": {
      "text/plain": [
       "srch_children_cnt\n",
       "0    78990\n",
       "1    11715\n",
       "2     7411\n",
       "3     1338\n",
       "4      423\n",
       "5       57\n",
       "6       44\n",
       "7       13\n",
       "8        7\n",
       "9        2\n",
       "Name: is_booking, dtype: int64"
      ]
     },
     "execution_count": 34,
     "metadata": {},
     "output_type": "execute_result"
    }
   ],
   "source": [
    "random_sample.groupby('srch_children_cnt')['is_booking'].sum().sort_values(ascending = False).head(10)\n",
    "\n",
    "#max booking is with 0 adults, followed by 1\n"
   ]
  },
  {
   "cell_type": "code",
   "execution_count": 35,
   "id": "b08f28b1",
   "metadata": {},
   "outputs": [
    {
     "data": {
      "text/plain": [
       "srch_rm_cnt\n",
       "1    90369\n",
       "2     7563\n",
       "3     1296\n",
       "4      379\n",
       "5      196\n",
       "6       84\n",
       "8       67\n",
       "7       43\n",
       "0        3\n",
       "Name: is_booking, dtype: int64"
      ]
     },
     "execution_count": 35,
     "metadata": {},
     "output_type": "execute_result"
    }
   ],
   "source": [
    "random_sample.groupby('srch_rm_cnt')['is_booking'].sum().sort_values(ascending = False).head(10)\n",
    "#can be excluded"
   ]
  },
  {
   "cell_type": "code",
   "execution_count": 36,
   "id": "ea316b57",
   "metadata": {},
   "outputs": [
    {
     "data": {
      "text/plain": [
       "srch_destination_id\n",
       "8291     668\n",
       "8268     547\n",
       "8278     544\n",
       "8235     522\n",
       "11353    522\n",
       "8273     517\n",
       "8277     515\n",
       "8216     491\n",
       "8230     490\n",
       "8250     483\n",
       "Name: is_booking, dtype: int64"
      ]
     },
     "execution_count": 36,
     "metadata": {},
     "output_type": "execute_result"
    }
   ],
   "source": [
    "#srch_destination_id\tID of the destination where the hotel search was performed\n",
    "#srch_destination_type_id\tType of destination\n",
    "random_sample.groupby('srch_destination_id')['is_booking'].sum().sort_values(ascending = False).head(10)\n",
    "\n",
    "#can be excluded"
   ]
  },
  {
   "cell_type": "code",
   "execution_count": 37,
   "id": "0d76e3b9",
   "metadata": {},
   "outputs": [
    {
     "data": {
      "text/plain": [
       "srch_destination_type_id\n",
       "1    47565\n",
       "6    26865\n",
       "3    10643\n",
       "5    10109\n",
       "4     4525\n",
       "8      282\n",
       "7        6\n",
       "9        5\n",
       "Name: is_booking, dtype: int64"
      ]
     },
     "execution_count": 37,
     "metadata": {},
     "output_type": "execute_result"
    }
   ],
   "source": [
    "random_sample.groupby('srch_destination_type_id')['is_booking'].sum().sort_values(ascending = False).head(10)\n",
    "\n",
    "#1 is the top followed by 6"
   ]
  },
  {
   "cell_type": "code",
   "execution_count": 38,
   "id": "449bbbe5",
   "metadata": {},
   "outputs": [
    {
     "data": {
      "text/plain": [
       "hotel_continent\n",
       "2    84963\n",
       "6     8299\n",
       "3     3523\n",
       "4     2249\n",
       "0      811\n",
       "5      155\n",
       "Name: is_booking, dtype: int64"
      ]
     },
     "execution_count": 38,
     "metadata": {},
     "output_type": "execute_result"
    }
   ],
   "source": [
    "random_sample.groupby('hotel_continent')['is_booking'].sum().sort_values(ascending = False).head(10)\n"
   ]
  },
  {
   "cell_type": "code",
   "execution_count": 39,
   "id": "646bd724",
   "metadata": {},
   "outputs": [
    {
     "data": {
      "text/plain": [
       "hotel_country\n",
       "50     76474\n",
       "198     8489\n",
       "70      2229\n",
       "106     1568\n",
       "144     1270\n",
       "77      1144\n",
       "8        912\n",
       "63       654\n",
       "204      637\n",
       "105      591\n",
       "Name: is_booking, dtype: int64"
      ]
     },
     "execution_count": 39,
     "metadata": {},
     "output_type": "execute_result"
    }
   ],
   "source": [
    "random_sample.groupby('hotel_country')['is_booking'].sum().sort_values(ascending = False).head(10)\n",
    "\n",
    "#50 has the highest booking"
   ]
  },
  {
   "cell_type": "code",
   "execution_count": 40,
   "id": "12bd2054",
   "metadata": {},
   "outputs": [
    {
     "data": {
      "text/plain": [
       "hotel_market\n",
       "191    2370\n",
       "365    2188\n",
       "366    1505\n",
       "637    1414\n",
       "350    1407\n",
       "406    1393\n",
       "682    1348\n",
       "659    1336\n",
       "656    1312\n",
       "409    1306\n",
       "Name: is_booking, dtype: int64"
      ]
     },
     "execution_count": 40,
     "metadata": {},
     "output_type": "execute_result"
    }
   ],
   "source": [
    "random_sample.groupby('hotel_market')['is_booking'].sum().sort_values(ascending = False).head(10)\n",
    "#can be excluded"
   ]
  },
  {
   "cell_type": "code",
   "execution_count": 41,
   "id": "ad6f3c30",
   "metadata": {},
   "outputs": [
    {
     "data": {
      "text/plain": [
       "cnt\n",
       "1    98873\n",
       "2     1038\n",
       "3       67\n",
       "4       12\n",
       "5        5\n",
       "6        3\n",
       "7        2\n",
       "Name: is_booking, dtype: int64"
      ]
     },
     "execution_count": 41,
     "metadata": {},
     "output_type": "execute_result"
    }
   ],
   "source": [
    "#cnt\tNumer of similar events in the context of the same user session\tbigint\n",
    "\n",
    "random_sample.groupby('cnt')['is_booking'].sum().sort_values(ascending = False).head(10)\n"
   ]
  },
  {
   "cell_type": "code",
   "execution_count": 42,
   "id": "f4d05878",
   "metadata": {},
   "outputs": [
    {
     "data": {
      "text/plain": [
       "hotel_cluster\n",
       "91    29412\n",
       "48    20871\n",
       "42    17870\n",
       "59    16214\n",
       "28    15633\n",
       "Name: is_booking, dtype: int64"
      ]
     },
     "execution_count": 42,
     "metadata": {},
     "output_type": "execute_result"
    }
   ],
   "source": [
    "random_sample.groupby('hotel_cluster')['is_booking'].sum().sort_values(ascending = False).head(20)\n"
   ]
  },
  {
   "cell_type": "markdown",
   "id": "3293d003",
   "metadata": {},
   "source": [
    "2.0 Data Preprocessing \n",
    "\n",
    "2.1 Creating new variable \n",
    "\n",
    "stay_dur: number of duration of stay\n",
    "no_of_days_bet_booking: number of days between the booking and\n",
    "Cin_day: Check-in day\n",
    "Cin_month: Check-in month\n",
    "Cin_year: Check-out year"
   ]
  },
  {
   "cell_type": "code",
   "execution_count": 43,
   "id": "8b7de755",
   "metadata": {},
   "outputs": [],
   "source": [
    "# Function to convert date object into relevant attributes\n",
    "def convert_date_into_days(df):\n",
    "    random_sample['srch_ci'] = pd.to_datetime(random_sample['srch_ci'])\n",
    "    random_sample['srch_co'] = pd.to_datetime(random_sample['srch_co'])\n",
    "    random_sample['date_time'] = pd.to_datetime(random_sample['date_time'])"
   ]
  },
  {
   "cell_type": "code",
   "execution_count": 44,
   "id": "dd4e0834",
   "metadata": {},
   "outputs": [],
   "source": [
    "## Convert srch_ci and srch_co to datetime objects\n",
    "random_sample['srch_ci'] = pd.to_datetime(random_sample['srch_ci'], format='%Y-%m-%d')\n",
    "random_sample['srch_co'] = pd.to_datetime(random_sample['srch_co'], format='%Y-%m-%d')\n",
    "random_sample['date_time'] = pd.to_datetime(random_sample['date_time'], format='%Y-%m-%d')"
   ]
  },
  {
   "cell_type": "code",
   "execution_count": 45,
   "id": "5bd02c5b",
   "metadata": {},
   "outputs": [],
   "source": [
    "#calculate stay duration\n",
    "random_sample['stay_dur'] = (random_sample['srch_co'] - random_sample['srch_ci']).astype('timedelta64[D]')"
   ]
  },
  {
   "cell_type": "code",
   "execution_count": 46,
   "id": "838791ef",
   "metadata": {},
   "outputs": [],
   "source": [
    "#no of day before booking\n",
    "random_sample['no_of_days_bef_booking'] = (random_sample['srch_ci'] - random_sample['date_time']).astype('timedelta64[D]')"
   ]
  },
  {
   "cell_type": "code",
   "execution_count": 47,
   "id": "242ce946",
   "metadata": {},
   "outputs": [],
   "source": [
    " # For hotel check-in\n",
    "    # Month, Year, Day\n",
    "random_sample['Cin_day'] = random_sample[\"srch_ci\"].apply(lambda x: x.day)\n",
    "random_sample['Cin_month'] = random_sample[\"srch_ci\"].apply(lambda x: x.month)\n",
    "random_sample['Cin_year'] = random_sample[\"srch_ci\"].apply(lambda x: x.year)"
   ]
  },
  {
   "cell_type": "code",
   "execution_count": 48,
   "id": "77996725",
   "metadata": {},
   "outputs": [],
   "source": [
    "# for date of booking Month, Year, Day\n",
    "random_sample['book_day'] = random_sample[\"date_time\"].apply(lambda x: x.day)\n",
    "random_sample['book_month'] = random_sample[\"date_time\"].apply(lambda x: x.month)\n",
    "random_sample['book_year'] = random_sample[\"date_time\"].apply(lambda x: x.year)"
   ]
  },
  {
   "cell_type": "code",
   "execution_count": 49,
   "id": "96457365",
   "metadata": {},
   "outputs": [],
   "source": [
    "convert_date_into_days(random_sample)\n"
   ]
  },
  {
   "cell_type": "code",
   "execution_count": 50,
   "id": "def884cd",
   "metadata": {},
   "outputs": [
    {
     "name": "stdout",
     "output_type": "stream",
     "text": [
      "<class 'pandas.core.frame.DataFrame'>\n",
      "RangeIndex: 100000 entries, 0 to 99999\n",
      "Data columns (total 32 columns):\n",
      " #   Column                     Non-Null Count   Dtype         \n",
      "---  ------                     --------------   -----         \n",
      " 0   date_time                  100000 non-null  datetime64[ns]\n",
      " 1   site_name                  100000 non-null  int64         \n",
      " 2   posa_continent             100000 non-null  int64         \n",
      " 3   user_location_country      100000 non-null  int64         \n",
      " 4   user_location_region       100000 non-null  int64         \n",
      " 5   user_location_city         100000 non-null  int64         \n",
      " 6   orig_destination_distance  76421 non-null   float64       \n",
      " 7   user_id                    100000 non-null  int64         \n",
      " 8   is_mobile                  100000 non-null  int64         \n",
      " 9   is_package                 100000 non-null  int64         \n",
      " 10  channel                    100000 non-null  int64         \n",
      " 11  srch_ci                    100000 non-null  datetime64[ns]\n",
      " 12  srch_co                    100000 non-null  datetime64[ns]\n",
      " 13  srch_adults_cnt            100000 non-null  int64         \n",
      " 14  srch_children_cnt          100000 non-null  int64         \n",
      " 15  srch_rm_cnt                100000 non-null  int64         \n",
      " 16  srch_destination_id        100000 non-null  int64         \n",
      " 17  srch_destination_type_id   100000 non-null  int64         \n",
      " 18  is_booking                 100000 non-null  int64         \n",
      " 19  cnt                        100000 non-null  int64         \n",
      " 20  hotel_continent            100000 non-null  int64         \n",
      " 21  hotel_country              100000 non-null  int64         \n",
      " 22  hotel_market               100000 non-null  int64         \n",
      " 23  hotel_cluster              100000 non-null  int64         \n",
      " 24  stay_dur                   100000 non-null  float64       \n",
      " 25  no_of_days_bef_booking     100000 non-null  float64       \n",
      " 26  Cin_day                    100000 non-null  int64         \n",
      " 27  Cin_month                  100000 non-null  int64         \n",
      " 28  Cin_year                   100000 non-null  int64         \n",
      " 29  book_day                   100000 non-null  int64         \n",
      " 30  book_month                 100000 non-null  int64         \n",
      " 31  book_year                  100000 non-null  int64         \n",
      "dtypes: datetime64[ns](3), float64(3), int64(26)\n",
      "memory usage: 24.4 MB\n"
     ]
    }
   ],
   "source": [
    "random_sample.info()"
   ]
  },
  {
   "cell_type": "code",
   "execution_count": 51,
   "id": "b0a73204",
   "metadata": {},
   "outputs": [
    {
     "data": {
      "text/html": [
       "<div>\n",
       "<style scoped>\n",
       "    .dataframe tbody tr th:only-of-type {\n",
       "        vertical-align: middle;\n",
       "    }\n",
       "\n",
       "    .dataframe tbody tr th {\n",
       "        vertical-align: top;\n",
       "    }\n",
       "\n",
       "    .dataframe thead th {\n",
       "        text-align: right;\n",
       "    }\n",
       "</style>\n",
       "<table border=\"1\" class=\"dataframe\">\n",
       "  <thead>\n",
       "    <tr style=\"text-align: right;\">\n",
       "      <th></th>\n",
       "      <th>date_time</th>\n",
       "      <th>site_name</th>\n",
       "      <th>posa_continent</th>\n",
       "      <th>user_location_country</th>\n",
       "      <th>user_location_region</th>\n",
       "      <th>user_location_city</th>\n",
       "      <th>orig_destination_distance</th>\n",
       "      <th>user_id</th>\n",
       "      <th>is_mobile</th>\n",
       "      <th>is_package</th>\n",
       "      <th>...</th>\n",
       "      <th>hotel_market</th>\n",
       "      <th>hotel_cluster</th>\n",
       "      <th>stay_dur</th>\n",
       "      <th>no_of_days_bef_booking</th>\n",
       "      <th>Cin_day</th>\n",
       "      <th>Cin_month</th>\n",
       "      <th>Cin_year</th>\n",
       "      <th>book_day</th>\n",
       "      <th>book_month</th>\n",
       "      <th>book_year</th>\n",
       "    </tr>\n",
       "  </thead>\n",
       "  <tbody>\n",
       "    <tr>\n",
       "      <th>0</th>\n",
       "      <td>2014-01-26 02:40:37</td>\n",
       "      <td>2</td>\n",
       "      <td>3</td>\n",
       "      <td>63</td>\n",
       "      <td>451</td>\n",
       "      <td>29000</td>\n",
       "      <td>118.5376</td>\n",
       "      <td>656753</td>\n",
       "      <td>0</td>\n",
       "      <td>0</td>\n",
       "      <td>...</td>\n",
       "      <td>1089</td>\n",
       "      <td>91</td>\n",
       "      <td>4.0</td>\n",
       "      <td>0.0</td>\n",
       "      <td>27</td>\n",
       "      <td>1</td>\n",
       "      <td>2014</td>\n",
       "      <td>26</td>\n",
       "      <td>1</td>\n",
       "      <td>2014</td>\n",
       "    </tr>\n",
       "    <tr>\n",
       "      <th>1</th>\n",
       "      <td>2014-10-28 02:11:27</td>\n",
       "      <td>18</td>\n",
       "      <td>2</td>\n",
       "      <td>119</td>\n",
       "      <td>0</td>\n",
       "      <td>27731</td>\n",
       "      <td>NaN</td>\n",
       "      <td>186216</td>\n",
       "      <td>0</td>\n",
       "      <td>0</td>\n",
       "      <td>...</td>\n",
       "      <td>2</td>\n",
       "      <td>59</td>\n",
       "      <td>2.0</td>\n",
       "      <td>285.0</td>\n",
       "      <td>10</td>\n",
       "      <td>8</td>\n",
       "      <td>2015</td>\n",
       "      <td>28</td>\n",
       "      <td>10</td>\n",
       "      <td>2014</td>\n",
       "    </tr>\n",
       "    <tr>\n",
       "      <th>2</th>\n",
       "      <td>2014-07-23 20:34:39</td>\n",
       "      <td>2</td>\n",
       "      <td>3</td>\n",
       "      <td>66</td>\n",
       "      <td>184</td>\n",
       "      <td>11740</td>\n",
       "      <td>37.4398</td>\n",
       "      <td>399072</td>\n",
       "      <td>0</td>\n",
       "      <td>0</td>\n",
       "      <td>...</td>\n",
       "      <td>656</td>\n",
       "      <td>91</td>\n",
       "      <td>3.0</td>\n",
       "      <td>0.0</td>\n",
       "      <td>24</td>\n",
       "      <td>7</td>\n",
       "      <td>2014</td>\n",
       "      <td>23</td>\n",
       "      <td>7</td>\n",
       "      <td>2014</td>\n",
       "    </tr>\n",
       "    <tr>\n",
       "      <th>3</th>\n",
       "      <td>2014-09-18 16:15:54</td>\n",
       "      <td>2</td>\n",
       "      <td>3</td>\n",
       "      <td>66</td>\n",
       "      <td>462</td>\n",
       "      <td>48217</td>\n",
       "      <td>1037.6654</td>\n",
       "      <td>522505</td>\n",
       "      <td>1</td>\n",
       "      <td>0</td>\n",
       "      <td>...</td>\n",
       "      <td>656</td>\n",
       "      <td>42</td>\n",
       "      <td>1.0</td>\n",
       "      <td>-1.0</td>\n",
       "      <td>18</td>\n",
       "      <td>9</td>\n",
       "      <td>2014</td>\n",
       "      <td>18</td>\n",
       "      <td>9</td>\n",
       "      <td>2014</td>\n",
       "    </tr>\n",
       "    <tr>\n",
       "      <th>4</th>\n",
       "      <td>2014-06-10 18:01:42</td>\n",
       "      <td>2</td>\n",
       "      <td>3</td>\n",
       "      <td>66</td>\n",
       "      <td>325</td>\n",
       "      <td>32561</td>\n",
       "      <td>206.7990</td>\n",
       "      <td>124909</td>\n",
       "      <td>0</td>\n",
       "      <td>0</td>\n",
       "      <td>...</td>\n",
       "      <td>1653</td>\n",
       "      <td>42</td>\n",
       "      <td>1.0</td>\n",
       "      <td>0.0</td>\n",
       "      <td>11</td>\n",
       "      <td>6</td>\n",
       "      <td>2014</td>\n",
       "      <td>10</td>\n",
       "      <td>6</td>\n",
       "      <td>2014</td>\n",
       "    </tr>\n",
       "  </tbody>\n",
       "</table>\n",
       "<p>5 rows × 32 columns</p>\n",
       "</div>"
      ],
      "text/plain": [
       "            date_time  site_name  posa_continent  user_location_country  \\\n",
       "0 2014-01-26 02:40:37          2               3                     63   \n",
       "1 2014-10-28 02:11:27         18               2                    119   \n",
       "2 2014-07-23 20:34:39          2               3                     66   \n",
       "3 2014-09-18 16:15:54          2               3                     66   \n",
       "4 2014-06-10 18:01:42          2               3                     66   \n",
       "\n",
       "   user_location_region  user_location_city  orig_destination_distance  \\\n",
       "0                   451               29000                   118.5376   \n",
       "1                     0               27731                        NaN   \n",
       "2                   184               11740                    37.4398   \n",
       "3                   462               48217                  1037.6654   \n",
       "4                   325               32561                   206.7990   \n",
       "\n",
       "   user_id  is_mobile  is_package  ...  hotel_market hotel_cluster stay_dur  \\\n",
       "0   656753          0           0  ...          1089            91      4.0   \n",
       "1   186216          0           0  ...             2            59      2.0   \n",
       "2   399072          0           0  ...           656            91      3.0   \n",
       "3   522505          1           0  ...           656            42      1.0   \n",
       "4   124909          0           0  ...          1653            42      1.0   \n",
       "\n",
       "   no_of_days_bef_booking  Cin_day  Cin_month  Cin_year  book_day  book_month  \\\n",
       "0                     0.0       27          1      2014        26           1   \n",
       "1                   285.0       10          8      2015        28          10   \n",
       "2                     0.0       24          7      2014        23           7   \n",
       "3                    -1.0       18          9      2014        18           9   \n",
       "4                     0.0       11          6      2014        10           6   \n",
       "\n",
       "   book_year  \n",
       "0       2014  \n",
       "1       2014  \n",
       "2       2014  \n",
       "3       2014  \n",
       "4       2014  \n",
       "\n",
       "[5 rows x 32 columns]"
      ]
     },
     "execution_count": 51,
     "metadata": {},
     "output_type": "execute_result"
    }
   ],
   "source": [
    "random_sample.head()"
   ]
  },
  {
   "cell_type": "code",
   "execution_count": 52,
   "id": "bdb8bb59",
   "metadata": {},
   "outputs": [
    {
     "data": {
      "text/html": [
       "<div>\n",
       "<style scoped>\n",
       "    .dataframe tbody tr th:only-of-type {\n",
       "        vertical-align: middle;\n",
       "    }\n",
       "\n",
       "    .dataframe tbody tr th {\n",
       "        vertical-align: top;\n",
       "    }\n",
       "\n",
       "    .dataframe thead th {\n",
       "        text-align: right;\n",
       "    }\n",
       "</style>\n",
       "<table border=\"1\" class=\"dataframe\">\n",
       "  <thead>\n",
       "    <tr style=\"text-align: right;\">\n",
       "      <th></th>\n",
       "      <th>is_booking</th>\n",
       "    </tr>\n",
       "    <tr>\n",
       "      <th>Cin_year</th>\n",
       "      <th></th>\n",
       "    </tr>\n",
       "  </thead>\n",
       "  <tbody>\n",
       "    <tr>\n",
       "      <th>2013</th>\n",
       "      <td>31814</td>\n",
       "    </tr>\n",
       "    <tr>\n",
       "      <th>2014</th>\n",
       "      <td>63310</td>\n",
       "    </tr>\n",
       "    <tr>\n",
       "      <th>2015</th>\n",
       "      <td>4872</td>\n",
       "    </tr>\n",
       "    <tr>\n",
       "      <th>2016</th>\n",
       "      <td>4</td>\n",
       "    </tr>\n",
       "  </tbody>\n",
       "</table>\n",
       "</div>"
      ],
      "text/plain": [
       "          is_booking\n",
       "Cin_year            \n",
       "2013           31814\n",
       "2014           63310\n",
       "2015            4872\n",
       "2016               4"
      ]
     },
     "execution_count": 52,
     "metadata": {},
     "output_type": "execute_result"
    }
   ],
   "source": [
    "#using pivot tables\n",
    "\n",
    "pd.pivot_table(random_sample, values='is_booking', index=['Cin_year'],\n",
    "                    aggfunc=np.sum)"
   ]
  },
  {
   "cell_type": "code",
   "execution_count": 53,
   "id": "aefdc42c",
   "metadata": {},
   "outputs": [
    {
     "data": {
      "text/html": [
       "<div>\n",
       "<style scoped>\n",
       "    .dataframe tbody tr th:only-of-type {\n",
       "        vertical-align: middle;\n",
       "    }\n",
       "\n",
       "    .dataframe tbody tr th {\n",
       "        vertical-align: top;\n",
       "    }\n",
       "\n",
       "    .dataframe thead th {\n",
       "        text-align: right;\n",
       "    }\n",
       "</style>\n",
       "<table border=\"1\" class=\"dataframe\">\n",
       "  <thead>\n",
       "    <tr style=\"text-align: right;\">\n",
       "      <th></th>\n",
       "      <th>is_booking</th>\n",
       "    </tr>\n",
       "    <tr>\n",
       "      <th>book_year</th>\n",
       "      <th></th>\n",
       "    </tr>\n",
       "  </thead>\n",
       "  <tbody>\n",
       "    <tr>\n",
       "      <th>2013</th>\n",
       "      <td>33723</td>\n",
       "    </tr>\n",
       "    <tr>\n",
       "      <th>2014</th>\n",
       "      <td>66277</td>\n",
       "    </tr>\n",
       "  </tbody>\n",
       "</table>\n",
       "</div>"
      ],
      "text/plain": [
       "           is_booking\n",
       "book_year            \n",
       "2013            33723\n",
       "2014            66277"
      ]
     },
     "execution_count": 53,
     "metadata": {},
     "output_type": "execute_result"
    }
   ],
   "source": [
    "pd.pivot_table(random_sample, values='is_booking', index=['book_year'],\n",
    "                    aggfunc=np.sum)"
   ]
  },
  {
   "cell_type": "code",
   "execution_count": 54,
   "id": "17956029",
   "metadata": {},
   "outputs": [
    {
     "data": {
      "text/html": [
       "<div>\n",
       "<style scoped>\n",
       "    .dataframe tbody tr th:only-of-type {\n",
       "        vertical-align: middle;\n",
       "    }\n",
       "\n",
       "    .dataframe tbody tr th {\n",
       "        vertical-align: top;\n",
       "    }\n",
       "\n",
       "    .dataframe thead th {\n",
       "        text-align: right;\n",
       "    }\n",
       "</style>\n",
       "<table border=\"1\" class=\"dataframe\">\n",
       "  <thead>\n",
       "    <tr style=\"text-align: right;\">\n",
       "      <th></th>\n",
       "      <th>is_booking</th>\n",
       "    </tr>\n",
       "    <tr>\n",
       "      <th>Cin_month</th>\n",
       "      <th></th>\n",
       "    </tr>\n",
       "  </thead>\n",
       "  <tbody>\n",
       "    <tr>\n",
       "      <th>8</th>\n",
       "      <td>10916</td>\n",
       "    </tr>\n",
       "    <tr>\n",
       "      <th>12</th>\n",
       "      <td>10210</td>\n",
       "    </tr>\n",
       "    <tr>\n",
       "      <th>10</th>\n",
       "      <td>9892</td>\n",
       "    </tr>\n",
       "    <tr>\n",
       "      <th>7</th>\n",
       "      <td>9480</td>\n",
       "    </tr>\n",
       "    <tr>\n",
       "      <th>11</th>\n",
       "      <td>9312</td>\n",
       "    </tr>\n",
       "    <tr>\n",
       "      <th>9</th>\n",
       "      <td>8845</td>\n",
       "    </tr>\n",
       "    <tr>\n",
       "      <th>6</th>\n",
       "      <td>8102</td>\n",
       "    </tr>\n",
       "    <tr>\n",
       "      <th>5</th>\n",
       "      <td>7976</td>\n",
       "    </tr>\n",
       "    <tr>\n",
       "      <th>4</th>\n",
       "      <td>7224</td>\n",
       "    </tr>\n",
       "    <tr>\n",
       "      <th>3</th>\n",
       "      <td>6792</td>\n",
       "    </tr>\n",
       "    <tr>\n",
       "      <th>1</th>\n",
       "      <td>5973</td>\n",
       "    </tr>\n",
       "    <tr>\n",
       "      <th>2</th>\n",
       "      <td>5278</td>\n",
       "    </tr>\n",
       "  </tbody>\n",
       "</table>\n",
       "</div>"
      ],
      "text/plain": [
       "           is_booking\n",
       "Cin_month            \n",
       "8               10916\n",
       "12              10210\n",
       "10               9892\n",
       "7                9480\n",
       "11               9312\n",
       "9                8845\n",
       "6                8102\n",
       "5                7976\n",
       "4                7224\n",
       "3                6792\n",
       "1                5973\n",
       "2                5278"
      ]
     },
     "execution_count": 54,
     "metadata": {},
     "output_type": "execute_result"
    }
   ],
   "source": [
    "#using pivot tables\n",
    "\n",
    "pd.pivot_table(random_sample, values='is_booking', index=['Cin_month'],\n",
    "               aggfunc=np.sum).sort_values(by='is_booking', ascending=False)\n",
    "\n",
    "#december has maximum check in"
   ]
  },
  {
   "cell_type": "code",
   "execution_count": 55,
   "id": "b09f0f0d",
   "metadata": {},
   "outputs": [
    {
     "data": {
      "text/html": [
       "<div>\n",
       "<style scoped>\n",
       "    .dataframe tbody tr th:only-of-type {\n",
       "        vertical-align: middle;\n",
       "    }\n",
       "\n",
       "    .dataframe tbody tr th {\n",
       "        vertical-align: top;\n",
       "    }\n",
       "\n",
       "    .dataframe thead th {\n",
       "        text-align: right;\n",
       "    }\n",
       "</style>\n",
       "<table border=\"1\" class=\"dataframe\">\n",
       "  <thead>\n",
       "    <tr style=\"text-align: right;\">\n",
       "      <th></th>\n",
       "      <th>is_booking</th>\n",
       "    </tr>\n",
       "    <tr>\n",
       "      <th>book_month</th>\n",
       "      <th></th>\n",
       "    </tr>\n",
       "  </thead>\n",
       "  <tbody>\n",
       "    <tr>\n",
       "      <th>7</th>\n",
       "      <td>9821</td>\n",
       "    </tr>\n",
       "    <tr>\n",
       "      <th>10</th>\n",
       "      <td>9798</td>\n",
       "    </tr>\n",
       "    <tr>\n",
       "      <th>8</th>\n",
       "      <td>9743</td>\n",
       "    </tr>\n",
       "    <tr>\n",
       "      <th>12</th>\n",
       "      <td>9743</td>\n",
       "    </tr>\n",
       "    <tr>\n",
       "      <th>9</th>\n",
       "      <td>9222</td>\n",
       "    </tr>\n",
       "    <tr>\n",
       "      <th>11</th>\n",
       "      <td>9046</td>\n",
       "    </tr>\n",
       "    <tr>\n",
       "      <th>6</th>\n",
       "      <td>8277</td>\n",
       "    </tr>\n",
       "    <tr>\n",
       "      <th>5</th>\n",
       "      <td>8102</td>\n",
       "    </tr>\n",
       "    <tr>\n",
       "      <th>4</th>\n",
       "      <td>7684</td>\n",
       "    </tr>\n",
       "    <tr>\n",
       "      <th>3</th>\n",
       "      <td>7439</td>\n",
       "    </tr>\n",
       "    <tr>\n",
       "      <th>2</th>\n",
       "      <td>5588</td>\n",
       "    </tr>\n",
       "    <tr>\n",
       "      <th>1</th>\n",
       "      <td>5537</td>\n",
       "    </tr>\n",
       "  </tbody>\n",
       "</table>\n",
       "</div>"
      ],
      "text/plain": [
       "            is_booking\n",
       "book_month            \n",
       "7                 9821\n",
       "10                9798\n",
       "8                 9743\n",
       "12                9743\n",
       "9                 9222\n",
       "11                9046\n",
       "6                 8277\n",
       "5                 8102\n",
       "4                 7684\n",
       "3                 7439\n",
       "2                 5588\n",
       "1                 5537"
      ]
     },
     "execution_count": 55,
     "metadata": {},
     "output_type": "execute_result"
    }
   ],
   "source": [
    "#using pivot tables\n",
    "\n",
    "pd.pivot_table(random_sample, values='is_booking', index=['book_month'],\n",
    "               aggfunc=np.sum).sort_values(by='is_booking', ascending=False)\n",
    "\n",
    "#december has maximum check in and bookings in july and aug"
   ]
  },
  {
   "cell_type": "markdown",
   "id": "b136472b",
   "metadata": {},
   "source": [
    "2.2 cleaning data ; missing values, cardanality etc and excluding data with least corr "
   ]
  },
  {
   "cell_type": "code",
   "execution_count": 56,
   "id": "5a98254f",
   "metadata": {},
   "outputs": [
    {
     "data": {
      "text/html": [
       "<div>\n",
       "<style scoped>\n",
       "    .dataframe tbody tr th:only-of-type {\n",
       "        vertical-align: middle;\n",
       "    }\n",
       "\n",
       "    .dataframe tbody tr th {\n",
       "        vertical-align: top;\n",
       "    }\n",
       "\n",
       "    .dataframe thead th {\n",
       "        text-align: right;\n",
       "    }\n",
       "</style>\n",
       "<table border=\"1\" class=\"dataframe\">\n",
       "  <thead>\n",
       "    <tr style=\"text-align: right;\">\n",
       "      <th></th>\n",
       "      <th>Total</th>\n",
       "      <th>Percent</th>\n",
       "    </tr>\n",
       "  </thead>\n",
       "  <tbody>\n",
       "    <tr>\n",
       "      <th>orig_destination_distance</th>\n",
       "      <td>23579</td>\n",
       "      <td>0.23579</td>\n",
       "    </tr>\n",
       "    <tr>\n",
       "      <th>date_time</th>\n",
       "      <td>0</td>\n",
       "      <td>0.00000</td>\n",
       "    </tr>\n",
       "    <tr>\n",
       "      <th>srch_destination_type_id</th>\n",
       "      <td>0</td>\n",
       "      <td>0.00000</td>\n",
       "    </tr>\n",
       "    <tr>\n",
       "      <th>book_month</th>\n",
       "      <td>0</td>\n",
       "      <td>0.00000</td>\n",
       "    </tr>\n",
       "    <tr>\n",
       "      <th>book_day</th>\n",
       "      <td>0</td>\n",
       "      <td>0.00000</td>\n",
       "    </tr>\n",
       "    <tr>\n",
       "      <th>Cin_year</th>\n",
       "      <td>0</td>\n",
       "      <td>0.00000</td>\n",
       "    </tr>\n",
       "    <tr>\n",
       "      <th>Cin_month</th>\n",
       "      <td>0</td>\n",
       "      <td>0.00000</td>\n",
       "    </tr>\n",
       "    <tr>\n",
       "      <th>Cin_day</th>\n",
       "      <td>0</td>\n",
       "      <td>0.00000</td>\n",
       "    </tr>\n",
       "    <tr>\n",
       "      <th>no_of_days_bef_booking</th>\n",
       "      <td>0</td>\n",
       "      <td>0.00000</td>\n",
       "    </tr>\n",
       "    <tr>\n",
       "      <th>stay_dur</th>\n",
       "      <td>0</td>\n",
       "      <td>0.00000</td>\n",
       "    </tr>\n",
       "    <tr>\n",
       "      <th>hotel_cluster</th>\n",
       "      <td>0</td>\n",
       "      <td>0.00000</td>\n",
       "    </tr>\n",
       "    <tr>\n",
       "      <th>hotel_market</th>\n",
       "      <td>0</td>\n",
       "      <td>0.00000</td>\n",
       "    </tr>\n",
       "    <tr>\n",
       "      <th>hotel_country</th>\n",
       "      <td>0</td>\n",
       "      <td>0.00000</td>\n",
       "    </tr>\n",
       "    <tr>\n",
       "      <th>hotel_continent</th>\n",
       "      <td>0</td>\n",
       "      <td>0.00000</td>\n",
       "    </tr>\n",
       "    <tr>\n",
       "      <th>cnt</th>\n",
       "      <td>0</td>\n",
       "      <td>0.00000</td>\n",
       "    </tr>\n",
       "    <tr>\n",
       "      <th>is_booking</th>\n",
       "      <td>0</td>\n",
       "      <td>0.00000</td>\n",
       "    </tr>\n",
       "    <tr>\n",
       "      <th>srch_destination_id</th>\n",
       "      <td>0</td>\n",
       "      <td>0.00000</td>\n",
       "    </tr>\n",
       "    <tr>\n",
       "      <th>site_name</th>\n",
       "      <td>0</td>\n",
       "      <td>0.00000</td>\n",
       "    </tr>\n",
       "    <tr>\n",
       "      <th>srch_rm_cnt</th>\n",
       "      <td>0</td>\n",
       "      <td>0.00000</td>\n",
       "    </tr>\n",
       "    <tr>\n",
       "      <th>srch_children_cnt</th>\n",
       "      <td>0</td>\n",
       "      <td>0.00000</td>\n",
       "    </tr>\n",
       "    <tr>\n",
       "      <th>srch_adults_cnt</th>\n",
       "      <td>0</td>\n",
       "      <td>0.00000</td>\n",
       "    </tr>\n",
       "    <tr>\n",
       "      <th>srch_co</th>\n",
       "      <td>0</td>\n",
       "      <td>0.00000</td>\n",
       "    </tr>\n",
       "    <tr>\n",
       "      <th>srch_ci</th>\n",
       "      <td>0</td>\n",
       "      <td>0.00000</td>\n",
       "    </tr>\n",
       "    <tr>\n",
       "      <th>channel</th>\n",
       "      <td>0</td>\n",
       "      <td>0.00000</td>\n",
       "    </tr>\n",
       "    <tr>\n",
       "      <th>is_package</th>\n",
       "      <td>0</td>\n",
       "      <td>0.00000</td>\n",
       "    </tr>\n",
       "    <tr>\n",
       "      <th>is_mobile</th>\n",
       "      <td>0</td>\n",
       "      <td>0.00000</td>\n",
       "    </tr>\n",
       "    <tr>\n",
       "      <th>user_id</th>\n",
       "      <td>0</td>\n",
       "      <td>0.00000</td>\n",
       "    </tr>\n",
       "    <tr>\n",
       "      <th>user_location_city</th>\n",
       "      <td>0</td>\n",
       "      <td>0.00000</td>\n",
       "    </tr>\n",
       "    <tr>\n",
       "      <th>user_location_region</th>\n",
       "      <td>0</td>\n",
       "      <td>0.00000</td>\n",
       "    </tr>\n",
       "    <tr>\n",
       "      <th>user_location_country</th>\n",
       "      <td>0</td>\n",
       "      <td>0.00000</td>\n",
       "    </tr>\n",
       "    <tr>\n",
       "      <th>posa_continent</th>\n",
       "      <td>0</td>\n",
       "      <td>0.00000</td>\n",
       "    </tr>\n",
       "    <tr>\n",
       "      <th>book_year</th>\n",
       "      <td>0</td>\n",
       "      <td>0.00000</td>\n",
       "    </tr>\n",
       "  </tbody>\n",
       "</table>\n",
       "</div>"
      ],
      "text/plain": [
       "                           Total  Percent\n",
       "orig_destination_distance  23579  0.23579\n",
       "date_time                      0  0.00000\n",
       "srch_destination_type_id       0  0.00000\n",
       "book_month                     0  0.00000\n",
       "book_day                       0  0.00000\n",
       "Cin_year                       0  0.00000\n",
       "Cin_month                      0  0.00000\n",
       "Cin_day                        0  0.00000\n",
       "no_of_days_bef_booking         0  0.00000\n",
       "stay_dur                       0  0.00000\n",
       "hotel_cluster                  0  0.00000\n",
       "hotel_market                   0  0.00000\n",
       "hotel_country                  0  0.00000\n",
       "hotel_continent                0  0.00000\n",
       "cnt                            0  0.00000\n",
       "is_booking                     0  0.00000\n",
       "srch_destination_id            0  0.00000\n",
       "site_name                      0  0.00000\n",
       "srch_rm_cnt                    0  0.00000\n",
       "srch_children_cnt              0  0.00000\n",
       "srch_adults_cnt                0  0.00000\n",
       "srch_co                        0  0.00000\n",
       "srch_ci                        0  0.00000\n",
       "channel                        0  0.00000\n",
       "is_package                     0  0.00000\n",
       "is_mobile                      0  0.00000\n",
       "user_id                        0  0.00000\n",
       "user_location_city             0  0.00000\n",
       "user_location_region           0  0.00000\n",
       "user_location_country          0  0.00000\n",
       "posa_continent                 0  0.00000\n",
       "book_year                      0  0.00000"
      ]
     },
     "execution_count": 56,
     "metadata": {},
     "output_type": "execute_result"
    }
   ],
   "source": [
    "# Check the percentage of Nan in dataset\n",
    "total = random_sample.isnull().sum().sort_values(ascending=False)\n",
    "percent = (random_sample.isnull().sum()/random_sample['hotel_cluster'].count()).sort_values(ascending=False)\n",
    "missing_data = pd.concat([total, percent], axis=1, keys=['Total', 'Percent'])\n",
    "missing_data\n",
    "\n",
    "#exclude orig_destination_distance from data"
   ]
  },
  {
   "cell_type": "code",
   "execution_count": 57,
   "id": "a7f15318",
   "metadata": {},
   "outputs": [
    {
     "data": {
      "text/plain": [
       "[]"
      ]
     },
     "execution_count": 57,
     "metadata": {},
     "output_type": "execute_result"
    }
   ],
   "source": [
    "#checking categorical variables\n",
    "\n",
    "list(set(random_sample.dtypes[random_sample.dtypes == object].index))"
   ]
  },
  {
   "cell_type": "code",
   "execution_count": 58,
   "id": "a9bfbbb3",
   "metadata": {},
   "outputs": [],
   "source": [
    "#checking numerical variables\n",
    "\n",
    "numerical_variables = [col for col in random_sample.columns if random_sample[col].dtype != object and col != 'hotel_cluster']\n"
   ]
  },
  {
   "cell_type": "code",
   "execution_count": 59,
   "id": "e70cda00",
   "metadata": {},
   "outputs": [
    {
     "data": {
      "text/plain": [
       "['date_time',\n",
       " 'site_name',\n",
       " 'posa_continent',\n",
       " 'user_location_country',\n",
       " 'user_location_region',\n",
       " 'user_location_city',\n",
       " 'orig_destination_distance',\n",
       " 'user_id',\n",
       " 'is_mobile',\n",
       " 'is_package',\n",
       " 'channel',\n",
       " 'srch_ci',\n",
       " 'srch_co',\n",
       " 'srch_adults_cnt',\n",
       " 'srch_children_cnt',\n",
       " 'srch_rm_cnt',\n",
       " 'srch_destination_id',\n",
       " 'srch_destination_type_id',\n",
       " 'is_booking',\n",
       " 'cnt',\n",
       " 'hotel_continent',\n",
       " 'hotel_country',\n",
       " 'hotel_market',\n",
       " 'stay_dur',\n",
       " 'no_of_days_bef_booking',\n",
       " 'Cin_day',\n",
       " 'Cin_month',\n",
       " 'Cin_year',\n",
       " 'book_day',\n",
       " 'book_month',\n",
       " 'book_year']"
      ]
     },
     "execution_count": 59,
     "metadata": {},
     "output_type": "execute_result"
    }
   ],
   "source": [
    "numerical_variables "
   ]
  },
  {
   "cell_type": "code",
   "execution_count": 60,
   "id": "58e459fb",
   "metadata": {},
   "outputs": [
    {
     "data": {
      "text/plain": [
       "['is_booking']"
      ]
     },
     "execution_count": 60,
     "metadata": {},
     "output_type": "execute_result"
    }
   ],
   "source": [
    "zero_variance_numerical_variables =  []\n",
    "\n",
    "for i in numerical_variables: #for each num var.\n",
    "    if len(random_sample[i].value_counts().index) == 1: #check how many levels \n",
    "        zero_variance_numerical_variables.append(i)# your code to find the \n",
    "                                # numerical variables with zero variance goes in here\n",
    "\n",
    "zero_variance_numerical_variables\n"
   ]
  },
  {
   "cell_type": "code",
   "execution_count": 61,
   "id": "af323296",
   "metadata": {},
   "outputs": [
    {
     "data": {
      "text/plain": [
       "hotel_cluster                1.000000\n",
       "posa_continent               0.050987\n",
       "srch_children_cnt            0.009848\n",
       "channel                      0.007918\n",
       "stay_dur                     0.007280\n",
       "hotel_market                 0.002289\n",
       "book_year                    0.002232\n",
       "srch_destination_type_id     0.002115\n",
       "Cin_day                      0.001789\n",
       "book_day                     0.000529\n",
       "cnt                         -0.000410\n",
       "srch_destination_id         -0.000533\n",
       "srch_rm_cnt                 -0.000875\n",
       "Cin_month                   -0.003242\n",
       "is_mobile                   -0.003971\n",
       "user_location_city          -0.004408\n",
       "user_id                     -0.004518\n",
       "is_package                  -0.007476\n",
       "book_month                  -0.009204\n",
       "Cin_year                    -0.009432\n",
       "srch_adults_cnt             -0.012315\n",
       "user_location_region        -0.012731\n",
       "no_of_days_bef_booking      -0.036113\n",
       "user_location_country       -0.043563\n",
       "orig_destination_distance   -0.053722\n",
       "site_name                   -0.079785\n",
       "hotel_country               -0.103624\n",
       "hotel_continent             -0.107743\n",
       "is_booking                        NaN\n",
       "Name: hotel_cluster, dtype: float64"
      ]
     },
     "execution_count": 61,
     "metadata": {},
     "output_type": "execute_result"
    }
   ],
   "source": [
    "(random_sample.corr()['hotel_cluster']).sort_values(ascending=False)\n",
    "\n",
    "#none of the variables have strong correlation thus linear regression wont work. "
   ]
  },
  {
   "cell_type": "code",
   "execution_count": 62,
   "id": "f0053edd",
   "metadata": {},
   "outputs": [
    {
     "data": {
      "text/plain": [
       "Index(['date_time', 'site_name', 'posa_continent', 'user_location_country',\n",
       "       'user_location_region', 'user_location_city',\n",
       "       'orig_destination_distance', 'user_id', 'is_mobile', 'is_package',\n",
       "       'channel', 'srch_ci', 'srch_co', 'srch_adults_cnt', 'srch_children_cnt',\n",
       "       'srch_rm_cnt', 'srch_destination_id', 'srch_destination_type_id',\n",
       "       'is_booking', 'cnt', 'hotel_continent', 'hotel_country', 'hotel_market',\n",
       "       'hotel_cluster', 'stay_dur', 'no_of_days_bef_booking', 'Cin_day',\n",
       "       'Cin_month', 'Cin_year', 'book_day', 'book_month', 'book_year'],\n",
       "      dtype='object')"
      ]
     },
     "execution_count": 62,
     "metadata": {},
     "output_type": "execute_result"
    }
   ],
   "source": [
    "random_sample.columns"
   ]
  },
  {
   "cell_type": "code",
   "execution_count": 63,
   "id": "be9be283",
   "metadata": {},
   "outputs": [
    {
     "data": {
      "text/plain": [
       "(100000, 32)"
      ]
     },
     "execution_count": 63,
     "metadata": {},
     "output_type": "execute_result"
    }
   ],
   "source": [
    "random_sample.shape"
   ]
  },
  {
   "cell_type": "markdown",
   "id": "410e3eb1",
   "metadata": {},
   "source": [
    "Dropping variables which are not adding value basis above pre-processing"
   ]
  },
  {
   "cell_type": "code",
   "execution_count": 64,
   "id": "f6675ae9",
   "metadata": {},
   "outputs": [],
   "source": [
    "random_sample2 = random_sample.drop(['date_time', 'user_location_region', 'user_location_city', 'orig_destination_distance', \n",
    "                              'user_id', 'srch_ci','srch_co', 'srch_adults_cnt', 'srch_children_cnt','cnt','is_booking'], axis=1)"
   ]
  },
  {
   "cell_type": "code",
   "execution_count": 65,
   "id": "5372be3e",
   "metadata": {},
   "outputs": [
    {
     "data": {
      "text/plain": [
       "(100000, 21)"
      ]
     },
     "execution_count": 65,
     "metadata": {},
     "output_type": "execute_result"
    }
   ],
   "source": [
    "random_sample2.shape"
   ]
  },
  {
   "cell_type": "markdown",
   "id": "3f013816",
   "metadata": {},
   "source": [
    "2.3 Missing Value imputation"
   ]
  },
  {
   "cell_type": "code",
   "execution_count": 66,
   "id": "41317c4c",
   "metadata": {},
   "outputs": [
    {
     "data": {
      "text/plain": [
       "site_name                   0\n",
       "hotel_market                0\n",
       "book_month                  0\n",
       "book_day                    0\n",
       "Cin_year                    0\n",
       "Cin_month                   0\n",
       "Cin_day                     0\n",
       "no_of_days_bef_booking      0\n",
       "stay_dur                    0\n",
       "hotel_cluster               0\n",
       "hotel_country               0\n",
       "posa_continent              0\n",
       "hotel_continent             0\n",
       "srch_destination_type_id    0\n",
       "srch_destination_id         0\n",
       "srch_rm_cnt                 0\n",
       "channel                     0\n",
       "is_package                  0\n",
       "is_mobile                   0\n",
       "user_location_country       0\n",
       "book_year                   0\n",
       "dtype: int64"
      ]
     },
     "execution_count": 66,
     "metadata": {},
     "output_type": "execute_result"
    }
   ],
   "source": [
    "# Check the percentage of Nan in dataset\n",
    "random_sample2.isnull().sum().sort_values(ascending=False)"
   ]
  },
  {
   "cell_type": "code",
   "execution_count": 67,
   "id": "719f9e95",
   "metadata": {},
   "outputs": [],
   "source": [
    "#fill for numerical col with median\n",
    "numerical_variables1 = [col for col in random_sample2.columns if random_sample2[col].dtype != object and col != 'hotel_cluster']\n",
    "random_sample2[numerical_variables1] = random_sample2[numerical_variables1].fillna(random_sample2[numerical_variables1].median(), inplace = False)"
   ]
  },
  {
   "cell_type": "code",
   "execution_count": 68,
   "id": "b6aad6a6",
   "metadata": {},
   "outputs": [
    {
     "data": {
      "text/plain": [
       "site_name                   0\n",
       "hotel_market                0\n",
       "book_month                  0\n",
       "book_day                    0\n",
       "Cin_year                    0\n",
       "Cin_month                   0\n",
       "Cin_day                     0\n",
       "no_of_days_bef_booking      0\n",
       "stay_dur                    0\n",
       "hotel_cluster               0\n",
       "hotel_country               0\n",
       "posa_continent              0\n",
       "hotel_continent             0\n",
       "srch_destination_type_id    0\n",
       "srch_destination_id         0\n",
       "srch_rm_cnt                 0\n",
       "channel                     0\n",
       "is_package                  0\n",
       "is_mobile                   0\n",
       "user_location_country       0\n",
       "book_year                   0\n",
       "dtype: int64"
      ]
     },
     "execution_count": 68,
     "metadata": {},
     "output_type": "execute_result"
    }
   ],
   "source": [
    "random_sample2.isnull().sum().sort_values(ascending=False)"
   ]
  },
  {
   "cell_type": "code",
   "execution_count": 69,
   "id": "c115a97b",
   "metadata": {},
   "outputs": [
    {
     "data": {
      "text/html": [
       "<div>\n",
       "<style scoped>\n",
       "    .dataframe tbody tr th:only-of-type {\n",
       "        vertical-align: middle;\n",
       "    }\n",
       "\n",
       "    .dataframe tbody tr th {\n",
       "        vertical-align: top;\n",
       "    }\n",
       "\n",
       "    .dataframe thead th {\n",
       "        text-align: right;\n",
       "    }\n",
       "</style>\n",
       "<table border=\"1\" class=\"dataframe\">\n",
       "  <thead>\n",
       "    <tr style=\"text-align: right;\">\n",
       "      <th></th>\n",
       "      <th>site_name</th>\n",
       "      <th>posa_continent</th>\n",
       "      <th>user_location_country</th>\n",
       "      <th>is_mobile</th>\n",
       "      <th>is_package</th>\n",
       "      <th>channel</th>\n",
       "      <th>srch_rm_cnt</th>\n",
       "      <th>srch_destination_id</th>\n",
       "      <th>srch_destination_type_id</th>\n",
       "      <th>hotel_continent</th>\n",
       "      <th>...</th>\n",
       "      <th>hotel_market</th>\n",
       "      <th>hotel_cluster</th>\n",
       "      <th>stay_dur</th>\n",
       "      <th>no_of_days_bef_booking</th>\n",
       "      <th>Cin_day</th>\n",
       "      <th>Cin_month</th>\n",
       "      <th>Cin_year</th>\n",
       "      <th>book_day</th>\n",
       "      <th>book_month</th>\n",
       "      <th>book_year</th>\n",
       "    </tr>\n",
       "  </thead>\n",
       "  <tbody>\n",
       "    <tr>\n",
       "      <th>0</th>\n",
       "      <td>2</td>\n",
       "      <td>3</td>\n",
       "      <td>63</td>\n",
       "      <td>0</td>\n",
       "      <td>0</td>\n",
       "      <td>9</td>\n",
       "      <td>1</td>\n",
       "      <td>21873</td>\n",
       "      <td>1</td>\n",
       "      <td>6</td>\n",
       "      <td>...</td>\n",
       "      <td>1089</td>\n",
       "      <td>91</td>\n",
       "      <td>4.0</td>\n",
       "      <td>0.0</td>\n",
       "      <td>27</td>\n",
       "      <td>1</td>\n",
       "      <td>2014</td>\n",
       "      <td>26</td>\n",
       "      <td>1</td>\n",
       "      <td>2014</td>\n",
       "    </tr>\n",
       "    <tr>\n",
       "      <th>1</th>\n",
       "      <td>18</td>\n",
       "      <td>2</td>\n",
       "      <td>119</td>\n",
       "      <td>0</td>\n",
       "      <td>0</td>\n",
       "      <td>2</td>\n",
       "      <td>1</td>\n",
       "      <td>22235</td>\n",
       "      <td>6</td>\n",
       "      <td>6</td>\n",
       "      <td>...</td>\n",
       "      <td>2</td>\n",
       "      <td>59</td>\n",
       "      <td>2.0</td>\n",
       "      <td>285.0</td>\n",
       "      <td>10</td>\n",
       "      <td>8</td>\n",
       "      <td>2015</td>\n",
       "      <td>28</td>\n",
       "      <td>10</td>\n",
       "      <td>2014</td>\n",
       "    </tr>\n",
       "    <tr>\n",
       "      <th>2</th>\n",
       "      <td>2</td>\n",
       "      <td>3</td>\n",
       "      <td>66</td>\n",
       "      <td>0</td>\n",
       "      <td>0</td>\n",
       "      <td>2</td>\n",
       "      <td>1</td>\n",
       "      <td>8236</td>\n",
       "      <td>1</td>\n",
       "      <td>2</td>\n",
       "      <td>...</td>\n",
       "      <td>656</td>\n",
       "      <td>91</td>\n",
       "      <td>3.0</td>\n",
       "      <td>0.0</td>\n",
       "      <td>24</td>\n",
       "      <td>7</td>\n",
       "      <td>2014</td>\n",
       "      <td>23</td>\n",
       "      <td>7</td>\n",
       "      <td>2014</td>\n",
       "    </tr>\n",
       "    <tr>\n",
       "      <th>3</th>\n",
       "      <td>2</td>\n",
       "      <td>3</td>\n",
       "      <td>66</td>\n",
       "      <td>1</td>\n",
       "      <td>0</td>\n",
       "      <td>9</td>\n",
       "      <td>1</td>\n",
       "      <td>8236</td>\n",
       "      <td>1</td>\n",
       "      <td>2</td>\n",
       "      <td>...</td>\n",
       "      <td>656</td>\n",
       "      <td>42</td>\n",
       "      <td>1.0</td>\n",
       "      <td>-1.0</td>\n",
       "      <td>18</td>\n",
       "      <td>9</td>\n",
       "      <td>2014</td>\n",
       "      <td>18</td>\n",
       "      <td>9</td>\n",
       "      <td>2014</td>\n",
       "    </tr>\n",
       "    <tr>\n",
       "      <th>4</th>\n",
       "      <td>2</td>\n",
       "      <td>3</td>\n",
       "      <td>66</td>\n",
       "      <td>0</td>\n",
       "      <td>0</td>\n",
       "      <td>9</td>\n",
       "      <td>1</td>\n",
       "      <td>44374</td>\n",
       "      <td>1</td>\n",
       "      <td>2</td>\n",
       "      <td>...</td>\n",
       "      <td>1653</td>\n",
       "      <td>42</td>\n",
       "      <td>1.0</td>\n",
       "      <td>0.0</td>\n",
       "      <td>11</td>\n",
       "      <td>6</td>\n",
       "      <td>2014</td>\n",
       "      <td>10</td>\n",
       "      <td>6</td>\n",
       "      <td>2014</td>\n",
       "    </tr>\n",
       "  </tbody>\n",
       "</table>\n",
       "<p>5 rows × 21 columns</p>\n",
       "</div>"
      ],
      "text/plain": [
       "   site_name  posa_continent  user_location_country  is_mobile  is_package  \\\n",
       "0          2               3                     63          0           0   \n",
       "1         18               2                    119          0           0   \n",
       "2          2               3                     66          0           0   \n",
       "3          2               3                     66          1           0   \n",
       "4          2               3                     66          0           0   \n",
       "\n",
       "   channel  srch_rm_cnt  srch_destination_id  srch_destination_type_id  \\\n",
       "0        9            1                21873                         1   \n",
       "1        2            1                22235                         6   \n",
       "2        2            1                 8236                         1   \n",
       "3        9            1                 8236                         1   \n",
       "4        9            1                44374                         1   \n",
       "\n",
       "   hotel_continent  ...  hotel_market  hotel_cluster  stay_dur  \\\n",
       "0                6  ...          1089             91       4.0   \n",
       "1                6  ...             2             59       2.0   \n",
       "2                2  ...           656             91       3.0   \n",
       "3                2  ...           656             42       1.0   \n",
       "4                2  ...          1653             42       1.0   \n",
       "\n",
       "   no_of_days_bef_booking  Cin_day  Cin_month  Cin_year  book_day  book_month  \\\n",
       "0                     0.0       27          1      2014        26           1   \n",
       "1                   285.0       10          8      2015        28          10   \n",
       "2                     0.0       24          7      2014        23           7   \n",
       "3                    -1.0       18          9      2014        18           9   \n",
       "4                     0.0       11          6      2014        10           6   \n",
       "\n",
       "   book_year  \n",
       "0       2014  \n",
       "1       2014  \n",
       "2       2014  \n",
       "3       2014  \n",
       "4       2014  \n",
       "\n",
       "[5 rows x 21 columns]"
      ]
     },
     "execution_count": 69,
     "metadata": {},
     "output_type": "execute_result"
    }
   ],
   "source": [
    "random_sample2.head()"
   ]
  },
  {
   "cell_type": "markdown",
   "id": "bbbebf1a",
   "metadata": {},
   "source": [
    "3.0 Visualization of Data\n"
   ]
  },
  {
   "cell_type": "code",
   "execution_count": 70,
   "id": "b8e81ff3",
   "metadata": {},
   "outputs": [
    {
     "data": {
      "text/plain": [
       "<AxesSubplot:>"
      ]
     },
     "execution_count": 70,
     "metadata": {},
     "output_type": "execute_result"
    },
    {
     "data": {
      "image/png": "[encoded data removed]",
      "text/plain": [
       "<Figure size 1080x720 with 2 Axes>"
      ]
     },
     "metadata": {
      "needs_background": "light"
     },
     "output_type": "display_data"
    }
   ],
   "source": [
    "#checking correlation \n",
    "fig, ax = plt.subplots()\n",
    "fig.set_size_inches(15, 10)\n",
    "sns.heatmap(random_sample2.corr(),cmap='coolwarm',ax=ax,annot=True,linewidths=2)"
   ]
  },
  {
   "cell_type": "code",
   "execution_count": 71,
   "id": "6bf88cb8",
   "metadata": {},
   "outputs": [
    {
     "data": {
      "image/png": "[encoded data removed]",
      "text/plain": [
       "<Figure size 936x576 with 1 Axes>"
      ]
     },
     "metadata": {
      "needs_background": "light"
     },
     "output_type": "display_data"
    }
   ],
   "source": [
    "fig, ax = plt.subplots(figsize=(13, 8))\n",
    "\n",
    "ax = sns.distplot(random_sample2['hotel_cluster'])"
   ]
  },
  {
   "cell_type": "code",
   "execution_count": 72,
   "id": "9a910d3f",
   "metadata": {},
   "outputs": [
    {
     "data": {
      "text/plain": [
       "Text(0, 0.5, 'Count')"
      ]
     },
     "execution_count": 72,
     "metadata": {},
     "output_type": "execute_result"
    },
    {
     "data": {
      "image/png": "[encoded data removed]",
      "text/plain": [
       "<Figure size 1080x720 with 1 Axes>"
      ]
     },
     "metadata": {
      "needs_background": "light"
     },
     "output_type": "display_data"
    }
   ],
   "source": [
    "fig, ax = plt.subplots(figsize=(15, 10))\n",
    "\n",
    "sns.set(style=\"white\") #i.e the graph will have no gridlined, for grid line use whitegrid\n",
    "\n",
    "#plot bar\n",
    "\n",
    "ax = sns.countplot(x = 'site_name', data = random_sample2,\n",
    "    palette=\"Set3\")\n",
    "\n",
    "\n",
    "ax.set_title(\"Distribution of Site Names in Data\")\n",
    "ax.set_xlabel(\"Site Name\")\n",
    "ax.set_ylabel(\"Count\")"
   ]
  },
  {
   "cell_type": "code",
   "execution_count": 73,
   "id": "91a3f372",
   "metadata": {},
   "outputs": [
    {
     "data": {
      "text/plain": [
       "Text(0, 0.5, 'Count')"
      ]
     },
     "execution_count": 73,
     "metadata": {},
     "output_type": "execute_result"
    },
    {
     "data": {
      "image/png": "[encoded data removed]",
      "text/plain": [
       "<Figure size 1080x720 with 1 Axes>"
      ]
     },
     "metadata": {},
     "output_type": "display_data"
    }
   ],
   "source": [
    "fig, ax = plt.subplots(figsize=(15, 10))\n",
    "\n",
    "sns.set(style=\"white\") #i.e the graph will have no gridlined, for grid line use whitegrid\n",
    "\n",
    "#plot bar\n",
    "\n",
    "ax = sns.countplot(x = 'posa_continent', data = random_sample2,\n",
    "    palette=\"Set3\")\n",
    "\n",
    "\n",
    "ax.set_title(\"Distribution of posa continent in Data\")\n",
    "ax.set_xlabel(\"Site Name\")\n",
    "ax.set_ylabel(\"Count\")"
   ]
  },
  {
   "cell_type": "code",
   "execution_count": 74,
   "id": "dfddf0b5",
   "metadata": {},
   "outputs": [
    {
     "data": {
      "text/plain": [
       "<AxesSubplot:>"
      ]
     },
     "execution_count": 74,
     "metadata": {},
     "output_type": "execute_result"
    },
    {
     "data": {
      "image/png": "[encoded data removed]",
      "text/plain": [
       "<Figure size 720x360 with 1 Axes>"
      ]
     },
     "metadata": {},
     "output_type": "display_data"
    }
   ],
   "source": [
    "random_sample2[\"posa_continent\"].value_counts().plot(kind = 'bar', color=\"blue\",figsize=(10,5))"
   ]
  },
  {
   "cell_type": "code",
   "execution_count": 75,
   "id": "bbd3f124",
   "metadata": {},
   "outputs": [
    {
     "data": {
      "text/plain": [
       "<AxesSubplot:>"
      ]
     },
     "execution_count": 75,
     "metadata": {},
     "output_type": "execute_result"
    },
    {
     "data": {
      "image/png": "[encoded data removed]",
      "text/plain": [
       "<Figure size 1440x360 with 1 Axes>"
      ]
     },
     "metadata": {},
     "output_type": "display_data"
    }
   ],
   "source": [
    "random_sample2[\"user_location_country\"].value_counts().plot(kind = 'bar', color=\"blue\",figsize=(20,5))"
   ]
  },
  {
   "cell_type": "code",
   "execution_count": 76,
   "id": "fd0062e2",
   "metadata": {},
   "outputs": [
    {
     "data": {
      "text/plain": [
       "Text(0, 0.5, 'Count')"
      ]
     },
     "execution_count": 76,
     "metadata": {},
     "output_type": "execute_result"
    },
    {
     "data": {
      "image/png": "[encoded data removed]",
      "text/plain": [
       "<Figure size 576x360 with 1 Axes>"
      ]
     },
     "metadata": {},
     "output_type": "display_data"
    }
   ],
   "source": [
    "#looks too cluttered thus used only top 25, also there are hardly any substantial values after that\n",
    "\n",
    "ax = random_sample2[\"user_location_country\"].value_counts().nlargest(5).plot(kind = 'bar', color=\"blue\",figsize=(8,5))\n",
    "\n",
    "# Add title and axis labels\n",
    "ax.set_title(\"Top 15 User Location Countries in Data\")\n",
    "ax.set_xlabel(\"Country\")\n",
    "ax.set_ylabel(\"Count\")"
   ]
  },
  {
   "cell_type": "code",
   "execution_count": 77,
   "id": "48a6873e",
   "metadata": {},
   "outputs": [
    {
     "data": {
      "text/plain": [
       "Text(0, 0.5, 'Count')"
      ]
     },
     "execution_count": 77,
     "metadata": {},
     "output_type": "execute_result"
    },
    {
     "data": {
      "image/png": "[encoded data removed]",
      "text/plain": [
       "<Figure size 504x360 with 1 Axes>"
      ]
     },
     "metadata": {},
     "output_type": "display_data"
    }
   ],
   "source": [
    "\n",
    "ax = random_sample2[\"is_mobile\"].value_counts().plot(kind = 'bar', color=\"grey\",figsize=(7,5))\n",
    "\n",
    "# Add title and axis labels\n",
    "ax.set_title(\"user connected from a mobile device or otherwise\")\n",
    "ax.set_xlabel(\"Device\")\n",
    "ax.set_ylabel(\"Count\")"
   ]
  },
  {
   "cell_type": "code",
   "execution_count": 78,
   "id": "414c9612",
   "metadata": {},
   "outputs": [
    {
     "data": {
      "text/plain": [
       "Text(0, 0.5, 'Count')"
      ]
     },
     "execution_count": 78,
     "metadata": {},
     "output_type": "execute_result"
    },
    {
     "data": {
      "image/png": "[encoded data removed]",
      "text/plain": [
       "<Figure size 432x288 with 1 Axes>"
      ]
     },
     "metadata": {},
     "output_type": "display_data"
    }
   ],
   "source": [
    "sns.set(style=\"white\") #i.e the graph will have no gridlined, for grid line use whitegrid\n",
    "\n",
    "#plot bar\n",
    "\n",
    "#based on contract - giving nos of people having multiple lines. \n",
    "ax = sns.countplot(x = 'is_mobile', hue = 'is_package', data = random_sample2,\n",
    "    color = \"grey\")\n",
    "\n",
    "# Add title and axis labels\n",
    "ax.set_title(\"Comparison of device used and package booked\")\n",
    "ax.set_xlabel(\"Device\")\n",
    "ax.set_ylabel(\"Count\")\n",
    "\n"
   ]
  },
  {
   "cell_type": "code",
   "execution_count": 79,
   "id": "2d2152ac",
   "metadata": {},
   "outputs": [
    {
     "data": {
      "image/png": "[encoded data removed]",
      "text/plain": [
       "<Figure size 504x360 with 1 Axes>"
      ]
     },
     "metadata": {},
     "output_type": "display_data"
    }
   ],
   "source": [
    "ax1 = random_sample2[\"site_name\"].value_counts().nlargest(10).plot(kind = 'bar', color=\"grey\",figsize=(7,5))"
   ]
  },
  {
   "cell_type": "code",
   "execution_count": 80,
   "id": "8d5cf95b",
   "metadata": {},
   "outputs": [
    {
     "data": {
      "text/plain": [
       "Text(0, 0.5, 'Count')"
      ]
     },
     "execution_count": 80,
     "metadata": {},
     "output_type": "execute_result"
    },
    {
     "data": {
      "image/png": "[encoded data removed]",
      "text/plain": [
       "<Figure size 1080x720 with 1 Axes>"
      ]
     },
     "metadata": {},
     "output_type": "display_data"
    }
   ],
   "source": [
    "# Get the top 10 site names by count\n",
    "top_10_sites = random_sample2['site_name'].value_counts().nlargest(10).index.tolist()\n",
    "\n",
    "# Create a subset of the data that contains only the top 10 sites and their channels\n",
    "subset_data = random_sample2[random_sample2['site_name'].isin(top_10_sites)][['site_name', 'channel']]\n",
    "\n",
    "# Plot the count of users for each channel\n",
    "fig, ax = plt.subplots(figsize=(15, 10))\n",
    "sns.countplot(x='channel', hue='site_name', data=subset_data, palette='Set3', ax=ax)\n",
    "\n",
    "# Add title and axis labels\n",
    "ax.set_title(\"Number of Users by Channel for Top 10 Site Names in Train Data\")\n",
    "ax.set_xlabel(\"Channel\")\n",
    "ax.set_ylabel(\"Count\")"
   ]
  },
  {
   "cell_type": "code",
   "execution_count": 81,
   "id": "ea0640e8",
   "metadata": {},
   "outputs": [
    {
     "data": {
      "text/plain": [
       "Text(0, 0.5, 'Count')"
      ]
     },
     "execution_count": 81,
     "metadata": {},
     "output_type": "execute_result"
    },
    {
     "data": {
      "image/png": "[encoded data removed]",
      "text/plain": [
       "<Figure size 504x360 with 1 Axes>"
      ]
     },
     "metadata": {},
     "output_type": "display_data"
    }
   ],
   "source": [
    "ax = random_sample2[\"channel\"].value_counts().plot(kind = 'bar', color=\"grey\",figsize=(7,5))\n",
    "\n",
    "# Add title and axis labels\n",
    "ax.set_title(\"Channe in Data\")\n",
    "ax.set_xlabel(\"Channel\")\n",
    "ax.set_ylabel(\"Count\")"
   ]
  },
  {
   "cell_type": "code",
   "execution_count": 82,
   "id": "aed4f3d2",
   "metadata": {},
   "outputs": [
    {
     "data": {
      "text/plain": [
       "Text(0.5, 0, 'stay duration in days')"
      ]
     },
     "execution_count": 82,
     "metadata": {},
     "output_type": "execute_result"
    },
    {
     "data": {
      "image/png": "[encoded data removed]",
      "text/plain": [
       "<Figure size 576x360 with 1 Axes>"
      ]
     },
     "metadata": {},
     "output_type": "display_data"
    }
   ],
   "source": [
    "ax = random_sample2[\"stay_dur\"].value_counts().nlargest(5).plot(kind = 'bar', color=\"grey\",figsize=(8,5))\n",
    "\n",
    "# Add title and axis labels\n",
    "\n",
    "ax.set_xlabel(\"stay duration in days\")\n"
   ]
  },
  {
   "cell_type": "code",
   "execution_count": 83,
   "id": "4d3e1b0f",
   "metadata": {},
   "outputs": [
    {
     "data": {
      "text/plain": [
       "Text(0.5, 0, 'No of adults')"
      ]
     },
     "execution_count": 83,
     "metadata": {},
     "output_type": "execute_result"
    },
    {
     "data": {
      "image/png": "[encoded data removed]",
      "text/plain": [
       "<Figure size 576x360 with 1 Axes>"
      ]
     },
     "metadata": {},
     "output_type": "display_data"
    }
   ],
   "source": [
    "ax = random_sample2[\"srch_rm_cnt\"].value_counts().nlargest(5).plot(kind = 'bar', color=\"grey\",figsize=(8,5))\n",
    "\n",
    "# Add title and axis labels\n",
    "ax.set_xlabel(\"No of adults\")\n"
   ]
  },
  {
   "cell_type": "code",
   "execution_count": 84,
   "id": "0401edb4",
   "metadata": {},
   "outputs": [
    {
     "data": {
      "text/plain": [
       "Text(0, 0.5, 'Count')"
      ]
     },
     "execution_count": 84,
     "metadata": {},
     "output_type": "execute_result"
    },
    {
     "data": {
      "image/png": "[encoded data removed]",
      "text/plain": [
       "<Figure size 1080x360 with 1 Axes>"
      ]
     },
     "metadata": {},
     "output_type": "display_data"
    }
   ],
   "source": [
    "ax = random_sample2[\"hotel_cluster\"].value_counts().plot(kind = 'bar', color=\"grey\",figsize=(15,5))\n",
    "\n",
    "# Add title and axis labels\n",
    "ax.set_title(\"Cluster booked\")\n",
    "ax.set_xlabel(\"hotel_cluster\")\n",
    "ax.set_ylabel(\"Count\")"
   ]
  },
  {
   "cell_type": "code",
   "execution_count": 85,
   "id": "2026288e",
   "metadata": {},
   "outputs": [
    {
     "data": {
      "text/plain": [
       "<AxesSubplot:>"
      ]
     },
     "execution_count": 85,
     "metadata": {},
     "output_type": "execute_result"
    },
    {
     "data": {
      "image/png": "[encoded data removed]",
      "text/plain": [
       "<Figure size 1080x360 with 1 Axes>"
      ]
     },
     "metadata": {},
     "output_type": "display_data"
    }
   ],
   "source": [
    "#If channel is 9 which are clusters which are booked?\n",
    "\n",
    "channel = 9\n",
    "\n",
    "fig, (axis1) = plt.subplots(1,1,figsize=(15,10))\n",
    "\n",
    "channel = random_sample2[random_sample2[\"channel\"] == channel]\n",
    "random_sample2[\"hotel_cluster\"].value_counts().plot(kind='bar',colormap=\"Set3\",figsize=(15,5))"
   ]
  },
  {
   "cell_type": "code",
   "execution_count": 86,
   "id": "75f0c97f",
   "metadata": {},
   "outputs": [
    {
     "data": {
      "text/plain": [
       "<AxesSubplot:>"
      ]
     },
     "execution_count": 86,
     "metadata": {},
     "output_type": "execute_result"
    },
    {
     "data": {
      "image/png": "[encoded data removed]",
      "text/plain": [
       "<Figure size 1080x360 with 1 Axes>"
      ]
     },
     "metadata": {},
     "output_type": "display_data"
    }
   ],
   "source": [
    "## Where do most of the customers from a country 66 travel?¶ -- 50\n",
    "\n",
    "user_country_id = 66\n",
    "\n",
    "fig, (axis1) = plt.subplots(1,1,figsize=(15,10))\n",
    "\n",
    "random_sample2[random_sample2[\"user_location_country\"] == user_country_id]\n",
    "random_sample2[\"hotel_country\"].value_counts().nlargest(20).plot(kind='bar',colormap=\"Set3\",figsize=(15,5))"
   ]
  },
  {
   "cell_type": "code",
   "execution_count": 87,
   "id": "580b0e6f",
   "metadata": {},
   "outputs": [
    {
     "data": {
      "text/plain": [
       "<AxesSubplot:>"
      ]
     },
     "execution_count": 87,
     "metadata": {},
     "output_type": "execute_result"
    },
    {
     "data": {
      "image/png": "[encoded data removed]",
      "text/plain": [
       "<Figure size 1080x360 with 1 Axes>"
      ]
     },
     "metadata": {},
     "output_type": "display_data"
    }
   ],
   "source": [
    "#most frequent hotel clusters booked by customers from a country 66¶\n",
    "\n",
    "\n",
    "user_country_id = 66\n",
    "\n",
    "fig, (axis1) = plt.subplots(1,1,figsize=(15,10))\n",
    "\n",
    "random_sample2[random_sample2[\"user_location_country\"] == user_country_id]\n",
    "random_sample2[\"hotel_cluster\"].value_counts().nlargest(20).plot(kind='bar',colormap=\"Set3\",figsize=(15,5))\n"
   ]
  },
  {
   "cell_type": "code",
   "execution_count": 88,
   "id": "902a5c1d",
   "metadata": {},
   "outputs": [
    {
     "data": {
      "text/plain": [
       "<AxesSubplot:xlabel='hotel_continent', ylabel='count'>"
      ]
     },
     "execution_count": 88,
     "metadata": {},
     "output_type": "execute_result"
    },
    {
     "data": {
      "image/png": "[encoded data removed]",
      "text/plain": [
       "<Figure size 1080x720 with 4 Axes>"
      ]
     },
     "metadata": {},
     "output_type": "display_data"
    }
   ],
   "source": [
    "# Plot post_continent & hotel_continent\n",
    "\n",
    "fig, ((axis1,axis2),(axis3,axis4)) = plt.subplots(2,2,figsize=(15,10))\n",
    "\n",
    "# Plot frequency for each posa_continent\n",
    "sns.countplot('posa_continent', data=random_sample2,order=[0,1,2,3,4],palette=\"Set3\",ax=axis1)\n",
    "\n",
    "# Plot frequency for each posa_continent decomposed by hotel_continent\n",
    "sns.countplot('posa_continent', hue='hotel_continent',data=random_sample2,order=[0,1,2,3,4],palette=\"Set3\",ax=axis2)\n",
    "\n",
    "# Plot frequency for each hotel_continent\n",
    "sns.countplot('hotel_continent', data=random_sample2,order=[0,2,3,4,5,6],palette=\"Set3\",ax=axis3)\n",
    "\n",
    "# Plot frequency for each hotel_continent decomposed by posa_continent\n",
    "sns.countplot('hotel_continent', hue='posa_continent', data=random_sample2, order=[0,2,3,4,5,6],palette=\"Set3\",ax=axis4)"
   ]
  },
  {
   "cell_type": "code",
   "execution_count": 89,
   "id": "eac99ec0",
   "metadata": {},
   "outputs": [
    {
     "data": {
      "text/plain": [
       "<AxesSubplot:xlabel='channel', ylabel='count'>"
      ]
     },
     "execution_count": 89,
     "metadata": {},
     "output_type": "execute_result"
    },
    {
     "data": {
      "image/png": "[encoded data removed]",
      "text/plain": [
       "<Figure size 1080x720 with 4 Axes>"
      ]
     },
     "metadata": {},
     "output_type": "display_data"
    }
   ],
   "source": [
    "# Plot post_continent & hotel_continent\n",
    "\n",
    "fig, ((axis1,axis2),(axis3,axis4)) = plt.subplots(2,2,figsize=(15,10))\n",
    "\n",
    "# Plot frequency for each posa_continent\n",
    "sns.countplot('hotel_cluster', data=random_sample2,palette=\"Set3\",ax=axis1)\n",
    "\n",
    "# Plot frequency for each hotel_continent\n",
    "sns.countplot('site_name', data=random_sample2,palette=\"Set3\",ax=axis2)\n",
    "\n",
    "# Plot frequency for each hotel_continent\n",
    "sns.countplot('posa_continent', data=random_sample2,palette=\"Set3\",ax=axis3)\n",
    "\n",
    "# Plot frequency for each hotel_continent\n",
    "sns.countplot('channel', data=random_sample2,palette=\"Set3\",ax=axis4)\n"
   ]
  },
  {
   "cell_type": "code",
   "execution_count": 90,
   "id": "2cde9ee1",
   "metadata": {},
   "outputs": [
    {
     "data": {
      "text/plain": [
       "Text(0.5, 0, 'Checkin Month')"
      ]
     },
     "execution_count": 90,
     "metadata": {},
     "output_type": "execute_result"
    },
    {
     "data": {
      "image/png": "[encoded data removed]",
      "text/plain": [
       "<Figure size 576x360 with 1 Axes>"
      ]
     },
     "metadata": {},
     "output_type": "display_data"
    }
   ],
   "source": [
    "ax = random_sample2[\"Cin_month\"].value_counts().plot(kind = 'bar', color=\"pink\",figsize=(8,5))\n",
    "\n",
    "ax.set_xlabel(\"Checkin Month\")\n"
   ]
  },
  {
   "cell_type": "code",
   "execution_count": 91,
   "id": "f44afaef",
   "metadata": {},
   "outputs": [
    {
     "data": {
      "text/plain": [
       "Text(0.5, 0, 'Booking Month')"
      ]
     },
     "execution_count": 91,
     "metadata": {},
     "output_type": "execute_result"
    },
    {
     "data": {
      "image/png": "[encoded data removed]",
      "text/plain": [
       "<Figure size 576x360 with 1 Axes>"
      ]
     },
     "metadata": {},
     "output_type": "display_data"
    }
   ],
   "source": [
    "ax = random_sample2[\"book_month\"].value_counts().plot(kind = 'bar', color=\"green\",figsize=(8,5))\n",
    "\n",
    "ax.set_xlabel(\"Booking Month\")"
   ]
  },
  {
   "cell_type": "code",
   "execution_count": 92,
   "id": "23626d5b",
   "metadata": {},
   "outputs": [
    {
     "data": {
      "text/plain": [
       "Text(0.5, 0, 'Stay duration in days')"
      ]
     },
     "execution_count": 92,
     "metadata": {},
     "output_type": "execute_result"
    },
    {
     "data": {
      "image/png": "[encoded data removed]",
      "text/plain": [
       "<Figure size 576x360 with 1 Axes>"
      ]
     },
     "metadata": {},
     "output_type": "display_data"
    }
   ],
   "source": [
    "ax = random_sample2[\"stay_dur\"].value_counts().plot(kind = 'bar', color=\"grey\",figsize=(8,5))\n",
    "\n",
    "\n",
    "ax.set_xlabel(\"Stay duration in days\")"
   ]
  },
  {
   "cell_type": "code",
   "execution_count": 93,
   "id": "4b86e03b",
   "metadata": {},
   "outputs": [
    {
     "data": {
      "text/plain": [
       "Text(0, 0.5, 'Count')"
      ]
     },
     "execution_count": 93,
     "metadata": {},
     "output_type": "execute_result"
    },
    {
     "data": {
      "image/png": "[encoded data removed]",
      "text/plain": [
       "<Figure size 1080x720 with 1 Axes>"
      ]
     },
     "metadata": {},
     "output_type": "display_data"
    }
   ],
   "source": [
    "# Create a subset of the data that contains only the cin_month and book_month columns\n",
    "subset_data = random_sample2[['Cin_month', 'book_month']]\n",
    "\n",
    "# Group the data by cin_month and book_month, and count the number of occurrences\n",
    "grouped_data = subset_data.groupby(['Cin_month', 'book_month']).size().reset_index(name='count')\n",
    "\n",
    "# Pivot the data to create a matrix with cin_month as the rows, book_month as the columns, and count as the values\n",
    "pivot_data = grouped_data.pivot(index='Cin_month', columns='book_month', values='count')\n",
    "\n",
    "# Plot the stacked bar chart\n",
    "fig, ax = plt.subplots(figsize=(15, 10))\n",
    "pivot_data.plot(kind='bar', stacked=True, ax=ax)\n",
    "\n",
    "# Add title and axis labels\n",
    "ax.set_title(\"Distribution of Check-In Month and Booking Month in Train Data\")\n",
    "ax.set_xlabel(\"Check-In Month\")\n",
    "ax.set_ylabel(\"Count\")"
   ]
  },
  {
   "cell_type": "markdown",
   "id": "c77026d5",
   "metadata": {},
   "source": [
    "Scaling the Data"
   ]
  },
  {
   "cell_type": "code",
   "execution_count": 94,
   "id": "cb247419",
   "metadata": {},
   "outputs": [],
   "source": [
    "#Import standardscaler\n",
    "\n",
    "from sklearn.preprocessing import StandardScaler"
   ]
  },
  {
   "cell_type": "code",
   "execution_count": 95,
   "id": "cfb89417",
   "metadata": {},
   "outputs": [
    {
     "data": {
      "text/plain": [
       "['site_name',\n",
       " 'posa_continent',\n",
       " 'user_location_country',\n",
       " 'is_mobile',\n",
       " 'is_package',\n",
       " 'channel',\n",
       " 'srch_rm_cnt',\n",
       " 'srch_destination_id',\n",
       " 'srch_destination_type_id',\n",
       " 'hotel_continent',\n",
       " 'hotel_country',\n",
       " 'hotel_market',\n",
       " 'stay_dur',\n",
       " 'no_of_days_bef_booking',\n",
       " 'Cin_day',\n",
       " 'Cin_month',\n",
       " 'Cin_year',\n",
       " 'book_day',\n",
       " 'book_month',\n",
       " 'book_year']"
      ]
     },
     "execution_count": 95,
     "metadata": {},
     "output_type": "execute_result"
    }
   ],
   "source": [
    "numerical_variables1"
   ]
  },
  {
   "cell_type": "code",
   "execution_count": 96,
   "id": "86c87964",
   "metadata": {},
   "outputs": [],
   "source": [
    "#create a col names for std values\n",
    "\n",
    "new_col = [i+'_standarized' for i in numerical_variables1]"
   ]
  },
  {
   "cell_type": "code",
   "execution_count": 97,
   "id": "3fbe3227",
   "metadata": {},
   "outputs": [],
   "source": [
    "#convert to numpy\n",
    "\n",
    "array = random_sample2[numerical_variables1].values"
   ]
  },
  {
   "cell_type": "code",
   "execution_count": 98,
   "id": "83da5a6a",
   "metadata": {},
   "outputs": [],
   "source": [
    "#create standrisation instance\n",
    "\n",
    "data_scaler = StandardScaler().fit(array)"
   ]
  },
  {
   "cell_type": "code",
   "execution_count": 99,
   "id": "1bdc9237",
   "metadata": {},
   "outputs": [],
   "source": [
    "#standarised the numerical variables \n",
    "\n",
    "data_rescaled = pd.DataFrame(data_scaler.transform(array), columns = new_col)"
   ]
  },
  {
   "cell_type": "code",
   "execution_count": 100,
   "id": "fa8747e1",
   "metadata": {},
   "outputs": [
    {
     "data": {
      "text/html": [
       "<div>\n",
       "<style scoped>\n",
       "    .dataframe tbody tr th:only-of-type {\n",
       "        vertical-align: middle;\n",
       "    }\n",
       "\n",
       "    .dataframe tbody tr th {\n",
       "        vertical-align: top;\n",
       "    }\n",
       "\n",
       "    .dataframe thead th {\n",
       "        text-align: right;\n",
       "    }\n",
       "</style>\n",
       "<table border=\"1\" class=\"dataframe\">\n",
       "  <thead>\n",
       "    <tr style=\"text-align: right;\">\n",
       "      <th></th>\n",
       "      <th>site_name_standarized</th>\n",
       "      <th>posa_continent_standarized</th>\n",
       "      <th>user_location_country_standarized</th>\n",
       "      <th>is_mobile_standarized</th>\n",
       "      <th>is_package_standarized</th>\n",
       "      <th>channel_standarized</th>\n",
       "      <th>srch_rm_cnt_standarized</th>\n",
       "      <th>srch_destination_id_standarized</th>\n",
       "      <th>srch_destination_type_id_standarized</th>\n",
       "      <th>hotel_continent_standarized</th>\n",
       "      <th>hotel_country_standarized</th>\n",
       "      <th>hotel_market_standarized</th>\n",
       "      <th>stay_dur_standarized</th>\n",
       "      <th>no_of_days_bef_booking_standarized</th>\n",
       "      <th>Cin_day_standarized</th>\n",
       "      <th>Cin_month_standarized</th>\n",
       "      <th>Cin_year_standarized</th>\n",
       "      <th>book_day_standarized</th>\n",
       "      <th>book_month_standarized</th>\n",
       "      <th>book_year_standarized</th>\n",
       "    </tr>\n",
       "  </thead>\n",
       "  <tbody>\n",
       "    <tr>\n",
       "      <th>0</th>\n",
       "      <td>-0.484538</td>\n",
       "      <td>0.267300</td>\n",
       "      <td>-0.458504</td>\n",
       "      <td>-0.342591</td>\n",
       "      <td>-0.27209</td>\n",
       "      <td>0.730748</td>\n",
       "      <td>-0.267192</td>\n",
       "      <td>0.457922</td>\n",
       "      <td>-0.963171</td>\n",
       "      <td>3.110639</td>\n",
       "      <td>-0.502550</td>\n",
       "      <td>1.299655</td>\n",
       "      <td>1.270222</td>\n",
       "      <td>-0.579697</td>\n",
       "      <td>1.234963</td>\n",
       "      <td>-1.844517</td>\n",
       "      <td>0.496336</td>\n",
       "      <td>1.170985</td>\n",
       "      <td>-1.828831</td>\n",
       "      <td>0.713316</td>\n",
       "    </tr>\n",
       "    <tr>\n",
       "      <th>1</th>\n",
       "      <td>1.015038</td>\n",
       "      <td>-1.582524</td>\n",
       "      <td>0.572840</td>\n",
       "      <td>-0.342591</td>\n",
       "      <td>-0.27209</td>\n",
       "      <td>-1.186960</td>\n",
       "      <td>-0.267192</td>\n",
       "      <td>0.488291</td>\n",
       "      <td>1.311979</td>\n",
       "      <td>3.110639</td>\n",
       "      <td>0.151284</td>\n",
       "      <td>-1.652012</td>\n",
       "      <td>0.034471</td>\n",
       "      <td>5.673920</td>\n",
       "      <td>-0.691792</td>\n",
       "      <td>0.267095</td>\n",
       "      <td>2.339123</td>\n",
       "      <td>1.399157</td>\n",
       "      <td>0.896117</td>\n",
       "      <td>0.713316</td>\n",
       "    </tr>\n",
       "    <tr>\n",
       "      <th>2</th>\n",
       "      <td>-0.484538</td>\n",
       "      <td>0.267300</td>\n",
       "      <td>-0.403253</td>\n",
       "      <td>-0.342591</td>\n",
       "      <td>-0.27209</td>\n",
       "      <td>-1.186960</td>\n",
       "      <td>-0.267192</td>\n",
       "      <td>-0.686119</td>\n",
       "      <td>-0.963171</td>\n",
       "      <td>-0.346203</td>\n",
       "      <td>-0.418184</td>\n",
       "      <td>0.123876</td>\n",
       "      <td>0.652347</td>\n",
       "      <td>-0.579697</td>\n",
       "      <td>0.894947</td>\n",
       "      <td>-0.034564</td>\n",
       "      <td>0.496336</td>\n",
       "      <td>0.828727</td>\n",
       "      <td>-0.012199</td>\n",
       "      <td>0.713316</td>\n",
       "    </tr>\n",
       "    <tr>\n",
       "      <th>3</th>\n",
       "      <td>-0.484538</td>\n",
       "      <td>0.267300</td>\n",
       "      <td>-0.403253</td>\n",
       "      <td>2.918935</td>\n",
       "      <td>-0.27209</td>\n",
       "      <td>0.730748</td>\n",
       "      <td>-0.267192</td>\n",
       "      <td>-0.686119</td>\n",
       "      <td>-0.963171</td>\n",
       "      <td>-0.346203</td>\n",
       "      <td>-0.418184</td>\n",
       "      <td>0.123876</td>\n",
       "      <td>-0.583404</td>\n",
       "      <td>-0.601640</td>\n",
       "      <td>0.214916</td>\n",
       "      <td>0.568753</td>\n",
       "      <td>0.496336</td>\n",
       "      <td>0.258297</td>\n",
       "      <td>0.593345</td>\n",
       "      <td>0.713316</td>\n",
       "    </tr>\n",
       "    <tr>\n",
       "      <th>4</th>\n",
       "      <td>-0.484538</td>\n",
       "      <td>0.267300</td>\n",
       "      <td>-0.403253</td>\n",
       "      <td>-0.342591</td>\n",
       "      <td>-0.27209</td>\n",
       "      <td>0.730748</td>\n",
       "      <td>-0.267192</td>\n",
       "      <td>2.345585</td>\n",
       "      <td>-0.963171</td>\n",
       "      <td>-0.346203</td>\n",
       "      <td>-0.418184</td>\n",
       "      <td>2.831155</td>\n",
       "      <td>-0.583404</td>\n",
       "      <td>-0.579697</td>\n",
       "      <td>-0.578454</td>\n",
       "      <td>-0.336223</td>\n",
       "      <td>0.496336</td>\n",
       "      <td>-0.654390</td>\n",
       "      <td>-0.314971</td>\n",
       "      <td>0.713316</td>\n",
       "    </tr>\n",
       "  </tbody>\n",
       "</table>\n",
       "</div>"
      ],
      "text/plain": [
       "   site_name_standarized  posa_continent_standarized  \\\n",
       "0              -0.484538                    0.267300   \n",
       "1               1.015038                   -1.582524   \n",
       "2              -0.484538                    0.267300   \n",
       "3              -0.484538                    0.267300   \n",
       "4              -0.484538                    0.267300   \n",
       "\n",
       "   user_location_country_standarized  is_mobile_standarized  \\\n",
       "0                          -0.458504              -0.342591   \n",
       "1                           0.572840              -0.342591   \n",
       "2                          -0.403253              -0.342591   \n",
       "3                          -0.403253               2.918935   \n",
       "4                          -0.403253              -0.342591   \n",
       "\n",
       "   is_package_standarized  channel_standarized  srch_rm_cnt_standarized  \\\n",
       "0                -0.27209             0.730748                -0.267192   \n",
       "1                -0.27209            -1.186960                -0.267192   \n",
       "2                -0.27209            -1.186960                -0.267192   \n",
       "3                -0.27209             0.730748                -0.267192   \n",
       "4                -0.27209             0.730748                -0.267192   \n",
       "\n",
       "   srch_destination_id_standarized  srch_destination_type_id_standarized  \\\n",
       "0                         0.457922                             -0.963171   \n",
       "1                         0.488291                              1.311979   \n",
       "2                        -0.686119                             -0.963171   \n",
       "3                        -0.686119                             -0.963171   \n",
       "4                         2.345585                             -0.963171   \n",
       "\n",
       "   hotel_continent_standarized  hotel_country_standarized  \\\n",
       "0                     3.110639                  -0.502550   \n",
       "1                     3.110639                   0.151284   \n",
       "2                    -0.346203                  -0.418184   \n",
       "3                    -0.346203                  -0.418184   \n",
       "4                    -0.346203                  -0.418184   \n",
       "\n",
       "   hotel_market_standarized  stay_dur_standarized  \\\n",
       "0                  1.299655              1.270222   \n",
       "1                 -1.652012              0.034471   \n",
       "2                  0.123876              0.652347   \n",
       "3                  0.123876             -0.583404   \n",
       "4                  2.831155             -0.583404   \n",
       "\n",
       "   no_of_days_bef_booking_standarized  Cin_day_standarized  \\\n",
       "0                           -0.579697             1.234963   \n",
       "1                            5.673920            -0.691792   \n",
       "2                           -0.579697             0.894947   \n",
       "3                           -0.601640             0.214916   \n",
       "4                           -0.579697            -0.578454   \n",
       "\n",
       "   Cin_month_standarized  Cin_year_standarized  book_day_standarized  \\\n",
       "0              -1.844517              0.496336              1.170985   \n",
       "1               0.267095              2.339123              1.399157   \n",
       "2              -0.034564              0.496336              0.828727   \n",
       "3               0.568753              0.496336              0.258297   \n",
       "4              -0.336223              0.496336             -0.654390   \n",
       "\n",
       "   book_month_standarized  book_year_standarized  \n",
       "0               -1.828831               0.713316  \n",
       "1                0.896117               0.713316  \n",
       "2               -0.012199               0.713316  \n",
       "3                0.593345               0.713316  \n",
       "4               -0.314971               0.713316  "
      ]
     },
     "execution_count": 100,
     "metadata": {},
     "output_type": "execute_result"
    }
   ],
   "source": [
    "data_rescaled.head()"
   ]
  },
  {
   "cell_type": "code",
   "execution_count": 101,
   "id": "b1de8f17",
   "metadata": {},
   "outputs": [],
   "source": [
    "#resetting index\n",
    "random_sample3 = random_sample2.reset_index(drop=True)\n"
   ]
  },
  {
   "cell_type": "code",
   "execution_count": 102,
   "id": "1958debc",
   "metadata": {},
   "outputs": [],
   "source": [
    "df = random_sample3.drop(numerical_variables1, axis = 1)"
   ]
  },
  {
   "cell_type": "code",
   "execution_count": 103,
   "id": "767e34e3",
   "metadata": {},
   "outputs": [],
   "source": [
    "random_sample4 = pd.concat([df, data_rescaled], axis = 1)"
   ]
  },
  {
   "cell_type": "code",
   "execution_count": 104,
   "id": "bc771fc8",
   "metadata": {},
   "outputs": [
    {
     "data": {
      "text/html": [
       "<div>\n",
       "<style scoped>\n",
       "    .dataframe tbody tr th:only-of-type {\n",
       "        vertical-align: middle;\n",
       "    }\n",
       "\n",
       "    .dataframe tbody tr th {\n",
       "        vertical-align: top;\n",
       "    }\n",
       "\n",
       "    .dataframe thead th {\n",
       "        text-align: right;\n",
       "    }\n",
       "</style>\n",
       "<table border=\"1\" class=\"dataframe\">\n",
       "  <thead>\n",
       "    <tr style=\"text-align: right;\">\n",
       "      <th></th>\n",
       "      <th>hotel_cluster</th>\n",
       "      <th>site_name_standarized</th>\n",
       "      <th>posa_continent_standarized</th>\n",
       "      <th>user_location_country_standarized</th>\n",
       "      <th>is_mobile_standarized</th>\n",
       "      <th>is_package_standarized</th>\n",
       "      <th>channel_standarized</th>\n",
       "      <th>srch_rm_cnt_standarized</th>\n",
       "      <th>srch_destination_id_standarized</th>\n",
       "      <th>srch_destination_type_id_standarized</th>\n",
       "      <th>...</th>\n",
       "      <th>hotel_country_standarized</th>\n",
       "      <th>hotel_market_standarized</th>\n",
       "      <th>stay_dur_standarized</th>\n",
       "      <th>no_of_days_bef_booking_standarized</th>\n",
       "      <th>Cin_day_standarized</th>\n",
       "      <th>Cin_month_standarized</th>\n",
       "      <th>Cin_year_standarized</th>\n",
       "      <th>book_day_standarized</th>\n",
       "      <th>book_month_standarized</th>\n",
       "      <th>book_year_standarized</th>\n",
       "    </tr>\n",
       "  </thead>\n",
       "  <tbody>\n",
       "    <tr>\n",
       "      <th>0</th>\n",
       "      <td>91</td>\n",
       "      <td>-0.484538</td>\n",
       "      <td>0.267300</td>\n",
       "      <td>-0.458504</td>\n",
       "      <td>-0.342591</td>\n",
       "      <td>-0.27209</td>\n",
       "      <td>0.730748</td>\n",
       "      <td>-0.267192</td>\n",
       "      <td>0.457922</td>\n",
       "      <td>-0.963171</td>\n",
       "      <td>...</td>\n",
       "      <td>-0.502550</td>\n",
       "      <td>1.299655</td>\n",
       "      <td>1.270222</td>\n",
       "      <td>-0.579697</td>\n",
       "      <td>1.234963</td>\n",
       "      <td>-1.844517</td>\n",
       "      <td>0.496336</td>\n",
       "      <td>1.170985</td>\n",
       "      <td>-1.828831</td>\n",
       "      <td>0.713316</td>\n",
       "    </tr>\n",
       "    <tr>\n",
       "      <th>1</th>\n",
       "      <td>59</td>\n",
       "      <td>1.015038</td>\n",
       "      <td>-1.582524</td>\n",
       "      <td>0.572840</td>\n",
       "      <td>-0.342591</td>\n",
       "      <td>-0.27209</td>\n",
       "      <td>-1.186960</td>\n",
       "      <td>-0.267192</td>\n",
       "      <td>0.488291</td>\n",
       "      <td>1.311979</td>\n",
       "      <td>...</td>\n",
       "      <td>0.151284</td>\n",
       "      <td>-1.652012</td>\n",
       "      <td>0.034471</td>\n",
       "      <td>5.673920</td>\n",
       "      <td>-0.691792</td>\n",
       "      <td>0.267095</td>\n",
       "      <td>2.339123</td>\n",
       "      <td>1.399157</td>\n",
       "      <td>0.896117</td>\n",
       "      <td>0.713316</td>\n",
       "    </tr>\n",
       "    <tr>\n",
       "      <th>2</th>\n",
       "      <td>91</td>\n",
       "      <td>-0.484538</td>\n",
       "      <td>0.267300</td>\n",
       "      <td>-0.403253</td>\n",
       "      <td>-0.342591</td>\n",
       "      <td>-0.27209</td>\n",
       "      <td>-1.186960</td>\n",
       "      <td>-0.267192</td>\n",
       "      <td>-0.686119</td>\n",
       "      <td>-0.963171</td>\n",
       "      <td>...</td>\n",
       "      <td>-0.418184</td>\n",
       "      <td>0.123876</td>\n",
       "      <td>0.652347</td>\n",
       "      <td>-0.579697</td>\n",
       "      <td>0.894947</td>\n",
       "      <td>-0.034564</td>\n",
       "      <td>0.496336</td>\n",
       "      <td>0.828727</td>\n",
       "      <td>-0.012199</td>\n",
       "      <td>0.713316</td>\n",
       "    </tr>\n",
       "    <tr>\n",
       "      <th>3</th>\n",
       "      <td>42</td>\n",
       "      <td>-0.484538</td>\n",
       "      <td>0.267300</td>\n",
       "      <td>-0.403253</td>\n",
       "      <td>2.918935</td>\n",
       "      <td>-0.27209</td>\n",
       "      <td>0.730748</td>\n",
       "      <td>-0.267192</td>\n",
       "      <td>-0.686119</td>\n",
       "      <td>-0.963171</td>\n",
       "      <td>...</td>\n",
       "      <td>-0.418184</td>\n",
       "      <td>0.123876</td>\n",
       "      <td>-0.583404</td>\n",
       "      <td>-0.601640</td>\n",
       "      <td>0.214916</td>\n",
       "      <td>0.568753</td>\n",
       "      <td>0.496336</td>\n",
       "      <td>0.258297</td>\n",
       "      <td>0.593345</td>\n",
       "      <td>0.713316</td>\n",
       "    </tr>\n",
       "    <tr>\n",
       "      <th>4</th>\n",
       "      <td>42</td>\n",
       "      <td>-0.484538</td>\n",
       "      <td>0.267300</td>\n",
       "      <td>-0.403253</td>\n",
       "      <td>-0.342591</td>\n",
       "      <td>-0.27209</td>\n",
       "      <td>0.730748</td>\n",
       "      <td>-0.267192</td>\n",
       "      <td>2.345585</td>\n",
       "      <td>-0.963171</td>\n",
       "      <td>...</td>\n",
       "      <td>-0.418184</td>\n",
       "      <td>2.831155</td>\n",
       "      <td>-0.583404</td>\n",
       "      <td>-0.579697</td>\n",
       "      <td>-0.578454</td>\n",
       "      <td>-0.336223</td>\n",
       "      <td>0.496336</td>\n",
       "      <td>-0.654390</td>\n",
       "      <td>-0.314971</td>\n",
       "      <td>0.713316</td>\n",
       "    </tr>\n",
       "    <tr>\n",
       "      <th>...</th>\n",
       "      <td>...</td>\n",
       "      <td>...</td>\n",
       "      <td>...</td>\n",
       "      <td>...</td>\n",
       "      <td>...</td>\n",
       "      <td>...</td>\n",
       "      <td>...</td>\n",
       "      <td>...</td>\n",
       "      <td>...</td>\n",
       "      <td>...</td>\n",
       "      <td>...</td>\n",
       "      <td>...</td>\n",
       "      <td>...</td>\n",
       "      <td>...</td>\n",
       "      <td>...</td>\n",
       "      <td>...</td>\n",
       "      <td>...</td>\n",
       "      <td>...</td>\n",
       "      <td>...</td>\n",
       "      <td>...</td>\n",
       "      <td>...</td>\n",
       "    </tr>\n",
       "    <tr>\n",
       "      <th>99995</th>\n",
       "      <td>48</td>\n",
       "      <td>1.483655</td>\n",
       "      <td>-3.432348</td>\n",
       "      <td>-1.600348</td>\n",
       "      <td>-0.342591</td>\n",
       "      <td>-0.27209</td>\n",
       "      <td>-0.365085</td>\n",
       "      <td>1.753925</td>\n",
       "      <td>1.445923</td>\n",
       "      <td>-0.963171</td>\n",
       "      <td>...</td>\n",
       "      <td>2.618982</td>\n",
       "      <td>2.453711</td>\n",
       "      <td>-0.583404</td>\n",
       "      <td>-0.557755</td>\n",
       "      <td>1.121624</td>\n",
       "      <td>-0.939540</td>\n",
       "      <td>0.496336</td>\n",
       "      <td>0.942813</td>\n",
       "      <td>-0.920515</td>\n",
       "      <td>0.713316</td>\n",
       "    </tr>\n",
       "    <tr>\n",
       "      <th>99996</th>\n",
       "      <td>48</td>\n",
       "      <td>-0.484538</td>\n",
       "      <td>0.267300</td>\n",
       "      <td>-0.403253</td>\n",
       "      <td>-0.342591</td>\n",
       "      <td>-0.27209</td>\n",
       "      <td>0.730748</td>\n",
       "      <td>1.753925</td>\n",
       "      <td>0.677133</td>\n",
       "      <td>-0.963171</td>\n",
       "      <td>...</td>\n",
       "      <td>-0.418184</td>\n",
       "      <td>1.899764</td>\n",
       "      <td>-0.583404</td>\n",
       "      <td>-0.557755</td>\n",
       "      <td>-0.918469</td>\n",
       "      <td>0.267095</td>\n",
       "      <td>-1.346451</td>\n",
       "      <td>-1.110734</td>\n",
       "      <td>0.290573</td>\n",
       "      <td>-1.401904</td>\n",
       "    </tr>\n",
       "    <tr>\n",
       "      <th>99997</th>\n",
       "      <td>42</td>\n",
       "      <td>-0.484538</td>\n",
       "      <td>0.267300</td>\n",
       "      <td>-0.403253</td>\n",
       "      <td>-0.342591</td>\n",
       "      <td>-0.27209</td>\n",
       "      <td>-1.734877</td>\n",
       "      <td>-0.267192</td>\n",
       "      <td>-0.369090</td>\n",
       "      <td>-0.963171</td>\n",
       "      <td>...</td>\n",
       "      <td>-0.418184</td>\n",
       "      <td>-0.226413</td>\n",
       "      <td>0.034471</td>\n",
       "      <td>0.539371</td>\n",
       "      <td>-1.371823</td>\n",
       "      <td>0.267095</td>\n",
       "      <td>0.496336</td>\n",
       "      <td>-0.312132</td>\n",
       "      <td>-0.314971</td>\n",
       "      <td>0.713316</td>\n",
       "    </tr>\n",
       "    <tr>\n",
       "      <th>99998</th>\n",
       "      <td>48</td>\n",
       "      <td>1.577379</td>\n",
       "      <td>-1.582524</td>\n",
       "      <td>-0.771590</td>\n",
       "      <td>-0.342591</td>\n",
       "      <td>-0.27209</td>\n",
       "      <td>-1.734877</td>\n",
       "      <td>-0.267192</td>\n",
       "      <td>0.529566</td>\n",
       "      <td>1.311979</td>\n",
       "      <td>...</td>\n",
       "      <td>1.564410</td>\n",
       "      <td>2.404833</td>\n",
       "      <td>0.034471</td>\n",
       "      <td>-0.426100</td>\n",
       "      <td>-0.351777</td>\n",
       "      <td>-0.034564</td>\n",
       "      <td>0.496336</td>\n",
       "      <td>-1.224820</td>\n",
       "      <td>-0.012199</td>\n",
       "      <td>0.713316</td>\n",
       "    </tr>\n",
       "    <tr>\n",
       "      <th>99999</th>\n",
       "      <td>48</td>\n",
       "      <td>-0.484538</td>\n",
       "      <td>0.267300</td>\n",
       "      <td>-1.563515</td>\n",
       "      <td>-0.342591</td>\n",
       "      <td>-0.27209</td>\n",
       "      <td>0.730748</td>\n",
       "      <td>-0.267192</td>\n",
       "      <td>-0.635868</td>\n",
       "      <td>-0.963171</td>\n",
       "      <td>...</td>\n",
       "      <td>-0.418184</td>\n",
       "      <td>-0.688036</td>\n",
       "      <td>-0.583404</td>\n",
       "      <td>-0.031134</td>\n",
       "      <td>-1.031808</td>\n",
       "      <td>-0.939540</td>\n",
       "      <td>0.496336</td>\n",
       "      <td>-0.426218</td>\n",
       "      <td>-1.223287</td>\n",
       "      <td>0.713316</td>\n",
       "    </tr>\n",
       "  </tbody>\n",
       "</table>\n",
       "<p>100000 rows × 21 columns</p>\n",
       "</div>"
      ],
      "text/plain": [
       "       hotel_cluster  site_name_standarized  posa_continent_standarized  \\\n",
       "0                 91              -0.484538                    0.267300   \n",
       "1                 59               1.015038                   -1.582524   \n",
       "2                 91              -0.484538                    0.267300   \n",
       "3                 42              -0.484538                    0.267300   \n",
       "4                 42              -0.484538                    0.267300   \n",
       "...              ...                    ...                         ...   \n",
       "99995             48               1.483655                   -3.432348   \n",
       "99996             48              -0.484538                    0.267300   \n",
       "99997             42              -0.484538                    0.267300   \n",
       "99998             48               1.577379                   -1.582524   \n",
       "99999             48              -0.484538                    0.267300   \n",
       "\n",
       "       user_location_country_standarized  is_mobile_standarized  \\\n",
       "0                              -0.458504              -0.342591   \n",
       "1                               0.572840              -0.342591   \n",
       "2                              -0.403253              -0.342591   \n",
       "3                              -0.403253               2.918935   \n",
       "4                              -0.403253              -0.342591   \n",
       "...                                  ...                    ...   \n",
       "99995                          -1.600348              -0.342591   \n",
       "99996                          -0.403253              -0.342591   \n",
       "99997                          -0.403253              -0.342591   \n",
       "99998                          -0.771590              -0.342591   \n",
       "99999                          -1.563515              -0.342591   \n",
       "\n",
       "       is_package_standarized  channel_standarized  srch_rm_cnt_standarized  \\\n",
       "0                    -0.27209             0.730748                -0.267192   \n",
       "1                    -0.27209            -1.186960                -0.267192   \n",
       "2                    -0.27209            -1.186960                -0.267192   \n",
       "3                    -0.27209             0.730748                -0.267192   \n",
       "4                    -0.27209             0.730748                -0.267192   \n",
       "...                       ...                  ...                      ...   \n",
       "99995                -0.27209            -0.365085                 1.753925   \n",
       "99996                -0.27209             0.730748                 1.753925   \n",
       "99997                -0.27209            -1.734877                -0.267192   \n",
       "99998                -0.27209            -1.734877                -0.267192   \n",
       "99999                -0.27209             0.730748                -0.267192   \n",
       "\n",
       "       srch_destination_id_standarized  srch_destination_type_id_standarized  \\\n",
       "0                             0.457922                             -0.963171   \n",
       "1                             0.488291                              1.311979   \n",
       "2                            -0.686119                             -0.963171   \n",
       "3                            -0.686119                             -0.963171   \n",
       "4                             2.345585                             -0.963171   \n",
       "...                                ...                                   ...   \n",
       "99995                         1.445923                             -0.963171   \n",
       "99996                         0.677133                             -0.963171   \n",
       "99997                        -0.369090                             -0.963171   \n",
       "99998                         0.529566                              1.311979   \n",
       "99999                        -0.635868                             -0.963171   \n",
       "\n",
       "       ...  hotel_country_standarized  hotel_market_standarized  \\\n",
       "0      ...                  -0.502550                  1.299655   \n",
       "1      ...                   0.151284                 -1.652012   \n",
       "2      ...                  -0.418184                  0.123876   \n",
       "3      ...                  -0.418184                  0.123876   \n",
       "4      ...                  -0.418184                  2.831155   \n",
       "...    ...                        ...                       ...   \n",
       "99995  ...                   2.618982                  2.453711   \n",
       "99996  ...                  -0.418184                  1.899764   \n",
       "99997  ...                  -0.418184                 -0.226413   \n",
       "99998  ...                   1.564410                  2.404833   \n",
       "99999  ...                  -0.418184                 -0.688036   \n",
       "\n",
       "       stay_dur_standarized  no_of_days_bef_booking_standarized  \\\n",
       "0                  1.270222                           -0.579697   \n",
       "1                  0.034471                            5.673920   \n",
       "2                  0.652347                           -0.579697   \n",
       "3                 -0.583404                           -0.601640   \n",
       "4                 -0.583404                           -0.579697   \n",
       "...                     ...                                 ...   \n",
       "99995             -0.583404                           -0.557755   \n",
       "99996             -0.583404                           -0.557755   \n",
       "99997              0.034471                            0.539371   \n",
       "99998              0.034471                           -0.426100   \n",
       "99999             -0.583404                           -0.031134   \n",
       "\n",
       "       Cin_day_standarized  Cin_month_standarized  Cin_year_standarized  \\\n",
       "0                 1.234963              -1.844517              0.496336   \n",
       "1                -0.691792               0.267095              2.339123   \n",
       "2                 0.894947              -0.034564              0.496336   \n",
       "3                 0.214916               0.568753              0.496336   \n",
       "4                -0.578454              -0.336223              0.496336   \n",
       "...                    ...                    ...                   ...   \n",
       "99995             1.121624              -0.939540              0.496336   \n",
       "99996            -0.918469               0.267095             -1.346451   \n",
       "99997            -1.371823               0.267095              0.496336   \n",
       "99998            -0.351777              -0.034564              0.496336   \n",
       "99999            -1.031808              -0.939540              0.496336   \n",
       "\n",
       "       book_day_standarized  book_month_standarized  book_year_standarized  \n",
       "0                  1.170985               -1.828831               0.713316  \n",
       "1                  1.399157                0.896117               0.713316  \n",
       "2                  0.828727               -0.012199               0.713316  \n",
       "3                  0.258297                0.593345               0.713316  \n",
       "4                 -0.654390               -0.314971               0.713316  \n",
       "...                     ...                     ...                    ...  \n",
       "99995              0.942813               -0.920515               0.713316  \n",
       "99996             -1.110734                0.290573              -1.401904  \n",
       "99997             -0.312132               -0.314971               0.713316  \n",
       "99998             -1.224820               -0.012199               0.713316  \n",
       "99999             -0.426218               -1.223287               0.713316  \n",
       "\n",
       "[100000 rows x 21 columns]"
      ]
     },
     "execution_count": 104,
     "metadata": {},
     "output_type": "execute_result"
    }
   ],
   "source": [
    "random_sample4"
   ]
  },
  {
   "cell_type": "markdown",
   "id": "56bae89b",
   "metadata": {},
   "source": [
    "Creating test and train data set"
   ]
  },
  {
   "cell_type": "code",
   "execution_count": 105,
   "id": "5876ee95",
   "metadata": {},
   "outputs": [],
   "source": [
    "input_var  = set(random_sample4.columns) - set(['hotel_cluster'])\n",
    "X = random_sample4[input_var]\n",
    "Y = random_sample4['hotel_cluster']"
   ]
  },
  {
   "cell_type": "code",
   "execution_count": 106,
   "id": "47469467",
   "metadata": {},
   "outputs": [
    {
     "data": {
      "text/plain": [
       "(100000, 20)"
      ]
     },
     "execution_count": 106,
     "metadata": {},
     "output_type": "execute_result"
    }
   ],
   "source": [
    "X.shape"
   ]
  },
  {
   "cell_type": "code",
   "execution_count": 107,
   "id": "6483f759",
   "metadata": {},
   "outputs": [
    {
     "data": {
      "text/plain": [
       "(100000,)"
      ]
     },
     "execution_count": 107,
     "metadata": {},
     "output_type": "execute_result"
    }
   ],
   "source": [
    "Y.shape"
   ]
  },
  {
   "cell_type": "code",
   "execution_count": 108,
   "id": "980c76d6",
   "metadata": {},
   "outputs": [],
   "source": [
    "X_train, X_test, Y_train, Y_test = train_test_split(X, Y, test_size=0.3, random_state=1)\n"
   ]
  },
  {
   "cell_type": "code",
   "execution_count": 109,
   "id": "1cd62af1",
   "metadata": {},
   "outputs": [
    {
     "data": {
      "text/plain": [
       "70000"
      ]
     },
     "execution_count": 109,
     "metadata": {},
     "output_type": "execute_result"
    }
   ],
   "source": [
    "len(X_train)\n"
   ]
  },
  {
   "cell_type": "code",
   "execution_count": 110,
   "id": "5540a74e",
   "metadata": {},
   "outputs": [
    {
     "data": {
      "text/plain": [
       "30000"
      ]
     },
     "execution_count": 110,
     "metadata": {},
     "output_type": "execute_result"
    }
   ],
   "source": [
    "len(X_test)\n"
   ]
  },
  {
   "cell_type": "markdown",
   "id": "e49098c5",
   "metadata": {},
   "source": [
    "Encode target variable"
   ]
  },
  {
   "cell_type": "markdown",
   "id": "509d175a",
   "metadata": {},
   "source": [
    "Running and testing the Models \n"
   ]
  },
  {
   "cell_type": "code",
   "execution_count": 111,
   "id": "e13a272c",
   "metadata": {},
   "outputs": [
    {
     "name": "stdout",
     "output_type": "stream",
     "text": [
      "Train Accuracy: 99.98%\n",
      "Test Accuracy: 42.38%\n"
     ]
    }
   ],
   "source": [
    "#Training\n",
    "\n",
    "rf = RandomForestClassifier(n_estimators=80)\n",
    "rf.fit(X_train, Y_train)\n",
    "\n",
    "#Prediction\n",
    "\n",
    "rf_train_prediction = rf.predict(X_train)\n",
    "rf_test_prediction = rf.predict(X_test)\n",
    "\n",
    "#Accuracy\n",
    "\n",
    "train_accuracy = accuracy_score(Y_train,rf_train_prediction)\n",
    "test_accuracy = accuracy_score(Y_test,rf_test_prediction)\n",
    "rf_accuracy = test_accuracy\n",
    "\n",
    "#Print\n",
    "\n",
    "print(\"Train Accuracy: %.2f%%\" % (train_accuracy * 100.0))\n",
    "print(\"Test Accuracy: %.2f%%\" % (test_accuracy * 100.0))"
   ]
  },
  {
   "cell_type": "code",
   "execution_count": 112,
   "id": "a87bec0d",
   "metadata": {},
   "outputs": [
    {
     "name": "stdout",
     "output_type": "stream",
     "text": [
      "Train Accuracy: 36.26%\n",
      "Test Accuracy: 35.87%\n"
     ]
    }
   ],
   "source": [
    "#Training\n",
    "\n",
    "lr = LogisticRegression()\n",
    "lr.fit(X_train, Y_train)\n",
    "\n",
    "#Prediction\n",
    "\n",
    "lr_train_prediction = lr.predict(X_train)\n",
    "lr_test_prediction = lr.predict(X_test)\n",
    "\n",
    "#Accuracy\n",
    "\n",
    "train_accuracy=accuracy_score(Y_train,lr_train_prediction)\n",
    "test_accuracy=accuracy_score(Y_test,lr_test_prediction)\n",
    "lr_accuracy = test_accuracy\n",
    "\n",
    "#Print\n",
    "\n",
    "print(\"Train Accuracy: %.2f%%\" % (train_accuracy * 100.0))\n",
    "print(\"Test Accuracy: %.2f%%\" % (test_accuracy * 100.0))"
   ]
  },
  {
   "cell_type": "code",
   "execution_count": 113,
   "id": "28a56ed1",
   "metadata": {},
   "outputs": [
    {
     "name": "stdout",
     "output_type": "stream",
     "text": [
      "Train Accuracy: 52.61%\n",
      "Test Accuracy: 29.39%\n"
     ]
    }
   ],
   "source": [
    "#Training\n",
    "\n",
    "knn = neighbors.KNeighborsClassifier()\n",
    "knn.fit(X_train,Y_train)\n",
    "\n",
    "#Prediction\n",
    "\n",
    "knn_train_prediction = knn.predict(X_train)\n",
    "knn_test_prediction = knn.predict(X_test)\n",
    "\n",
    "#Accuracy\n",
    "\n",
    "train_accuracy=accuracy_score(Y_train,knn_train_prediction)\n",
    "test_accuracy=accuracy_score(Y_test,knn_test_prediction)\n",
    "knn_accuracy = test_accuracy\n",
    "\n",
    "#Print\n",
    "\n",
    "print(\"Train Accuracy: %.2f%%\" % (train_accuracy * 100.0)) \n",
    "print(\"Test Accuracy: %.2f%%\" % (test_accuracy * 100.0)) "
   ]
  },
  {
   "cell_type": "code",
   "execution_count": 114,
   "id": "13433fd1",
   "metadata": {},
   "outputs": [
    {
     "name": "stdout",
     "output_type": "stream",
     "text": [
      "Train Accuracy: 99.98%\n",
      "Test Accuracy: 43.45%\n"
     ]
    }
   ],
   "source": [
    "#Training\n",
    "\n",
    "dt = DecisionTreeClassifier()\n",
    "dt.fit(X_train, Y_train)\n",
    "\n",
    "#Prediction\n",
    "\n",
    "dt_train_prediction = dt.predict(X_train)\n",
    "dt_test_prediction = dt.predict(X_test)\n",
    "\n",
    "#Accuracy\n",
    "\n",
    "train_accuracy = accuracy_score(Y_train, dt_train_prediction)\n",
    "test_accuracy = accuracy_score(Y_test, dt_test_prediction)\n",
    "dt_accuracy = test_accuracy\n",
    "\n",
    "#Printing\n",
    "\n",
    "print(\"Train Accuracy: %.2f%%\" % (train_accuracy * 100.0)) \n",
    "print(\"Test Accuracy: %.2f%%\" % (test_accuracy * 100.0)) "
   ]
  },
  {
   "cell_type": "code",
   "execution_count": 115,
   "id": "34dbfb4c",
   "metadata": {},
   "outputs": [
    {
     "name": "stdout",
     "output_type": "stream",
     "text": [
      "[0 1 2 3 4]\n",
      "[0 1 2 3 4]\n"
     ]
    }
   ],
   "source": [
    "from sklearn.preprocessing import LabelEncoder\n",
    "\n",
    "le = LabelEncoder()\n",
    "Y_train = le.fit_transform(Y_train)\n",
    "Y_test = le.transform(Y_test)\n",
    "\n",
    "# Check the unique values in Y_train and Y_test\n",
    "print(np.unique(Y_train))\n",
    "print(np.unique(Y_test))"
   ]
  },
  {
   "cell_type": "code",
   "execution_count": 116,
   "id": "789a7959",
   "metadata": {},
   "outputs": [
    {
     "name": "stdout",
     "output_type": "stream",
     "text": [
      "Train Accuracy: 57.21%\n",
      "Test Accuracy: 47.09%\n"
     ]
    }
   ],
   "source": [
    "import xgboost as xgb\n",
    "from sklearn.metrics import accuracy_score\n",
    "\n",
    "# Training\n",
    "xgb_model = xgb.XGBClassifier()\n",
    "xgb_model.fit(X_train, Y_train)\n",
    "\n",
    "# Prediction\n",
    "xgb_train_prediction = xgb_model.predict(X_train)\n",
    "xgb_test_prediction = xgb_model.predict(X_test)\n",
    "\n",
    "# Accuracy\n",
    "train_accuracy = accuracy_score(Y_train, xgb_train_prediction)\n",
    "test_accuracy = accuracy_score(Y_test, xgb_test_prediction)\n",
    "xgb_accuracy = test_accuracy\n",
    "\n",
    "# Printing\n",
    "print(\"Train Accuracy: %.2f%%\" % (train_accuracy * 100.0))\n",
    "print(\"Test Accuracy: %.2f%%\" % (test_accuracy * 100.0))"
   ]
  },
  {
   "cell_type": "code",
   "execution_count": 117,
   "id": "0290f9be",
   "metadata": {},
   "outputs": [
    {
     "data": {
      "text/plain": [
       "[42.4, 35.9, 29.4, 43.4, 47.1]"
      ]
     },
     "execution_count": 117,
     "metadata": {},
     "output_type": "execute_result"
    }
   ],
   "source": [
    "accuracy=[round(rf_accuracy*100,1), round(lr_accuracy*100,1), round(knn_accuracy*100,1), round(dt_accuracy*100,1), round(xgb_accuracy*100,1)]\n",
    "accuracy"
   ]
  },
  {
   "cell_type": "code",
   "execution_count": 118,
   "id": "09b7d995",
   "metadata": {},
   "outputs": [
    {
     "name": "stdout",
     "output_type": "stream",
     "text": [
      "                 Model  Accuracy\n",
      "0        Random Forest      42.4\n",
      "1  logistic_regression      35.9\n",
      "2                  KNN      29.4\n",
      "3        Decision Tree      43.4\n",
      "4              XGBoost      47.1\n"
     ]
    }
   ],
   "source": [
    "# create a list of model names\n",
    "models = ['Random Forest', 'logistic_regression', 'KNN', 'Decision Tree', 'XGBoost']\n",
    "\n",
    "# create a dictionary of accuracy values\n",
    "accuracy_dict = {'Model': models, 'Accuracy': accuracy}\n",
    "\n",
    "# create a dataframe from the dictionary\n",
    "accuracy_df = pd.DataFrame.from_dict(accuracy_dict)\n",
    "\n",
    "# print the dataframe\n",
    "print(accuracy_df)"
   ]
  },
  {
   "cell_type": "code",
   "execution_count": 119,
   "id": "5c796598",
   "metadata": {},
   "outputs": [],
   "source": [
    "algorithms=[\"Random Forest\",\"Logistic Regression\",\"KNN\",\"Decsion trees\",\"XG Boost\"]"
   ]
  },
  {
   "cell_type": "code",
   "execution_count": 120,
   "id": "918c4516",
   "metadata": {},
   "outputs": [
    {
     "data": {
      "image/png": "[encoded data removed]",
      "text/plain": [
       "<Figure size 576x360 with 1 Axes>"
      ]
     },
     "metadata": {},
     "output_type": "display_data"
    }
   ],
   "source": [
    "plt.figure(figsize=(8,5))\n",
    "plt.bar(algorithms,accuracy,width=0.3)\n",
    "plt.grid(color='#95a5a6', linestyle='--', linewidth=2, axis='y', alpha=0.7)\n",
    "plt.show()"
   ]
  }
 ],
 "metadata": {
  "kernelspec": {
   "display_name": "Python 3 (ipykernel)",
   "language": "python",
   "name": "python3"
  },
  "language_info": {
   "codemirror_mode": {
    "name": "ipython",
    "version": 3
   },
   "file_extension": ".py",
   "mimetype": "text/x-python",
   "name": "python",
   "nbconvert_exporter": "python",
   "pygments_lexer": "ipython3",
   "version": "3.9.12"
  }
 },
 "nbformat": 4,
 "nbformat_minor": 5
}
